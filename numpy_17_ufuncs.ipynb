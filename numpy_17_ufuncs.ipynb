{
  "nbformat": 4,
  "nbformat_minor": 0,
  "metadata": {
    "colab": {
      "provenance": [],
      "authorship_tag": "ABX9TyOGe4Wr/ERfpvwKPiB8A/9A",
      "include_colab_link": true
    },
    "kernelspec": {
      "name": "python3",
      "display_name": "Python 3"
    },
    "language_info": {
      "name": "python"
    }
  },
  "cells": [
    {
      "cell_type": "markdown",
      "metadata": {
        "id": "view-in-github",
        "colab_type": "text"
      },
      "source": [
        "<a href=\"https://colab.research.google.com/github/plus2net/numpy/blob/main/numpy_17_ufuncs.ipynb\" target=\"_parent\"><img src=\"https://colab.research.google.com/assets/colab-badge.svg\" alt=\"Open In Colab\"/></a>"
      ]
    },
    {
      "cell_type": "markdown",
      "source": [
        "![alt text](https://www.plus2net.com/images/top2.jpg)        Read more on [ufuncs  ](https://www.plus2net.com/python/numpy-ufuncs.php) | [ Numpy ](https://www.plus2net.com/python/numpy.php)"
      ],
      "metadata": {
        "id": "IzacesE1Lrgq"
      }
    },
    {
      "cell_type": "code",
      "source": [
        "import numpy as np\n",
        "\n",
        "x = np.array([1., 4., 9.])\n",
        "print(np.sqrt(x))              # elementwise sqrt; <class 'numpy.ufunc'>\n",
        "\n",
        "a = np.array([1,2,3], dtype=np.float64)\n",
        "b = np.array([10,20,30], dtype=np.float64)\n",
        "np.add(a, b)            # same as a + b (binary ufunc)"
      ],
      "metadata": {
        "colab": {
          "base_uri": "https://localhost:8080/"
        },
        "id": "dNyrk4jp3zY-",
        "outputId": "b6773dc7-54f3-4ac2-cfc6-104b31e6e133"
      },
      "execution_count": 3,
      "outputs": [
        {
          "output_type": "stream",
          "name": "stdout",
          "text": [
            "[1. 2. 3.]\n"
          ]
        },
        {
          "output_type": "execute_result",
          "data": {
            "text/plain": [
              "array([11., 22., 33.])"
            ]
          },
          "metadata": {},
          "execution_count": 3
        }
      ]
    },
    {
      "cell_type": "code",
      "source": [
        "M = np.array([[1,2,3],[4,5,6]], dtype=np.float64)  # (2,3)\n",
        "v = np.array([10,20,30], dtype=np.float64)          # (3,)\n",
        "print(np.add(M, v))       # v broadcasts across rows\n",
        "print(np.multiply(M, 2))  # scalar broadcast"
      ],
      "metadata": {
        "colab": {
          "base_uri": "https://localhost:8080/"
        },
        "id": "V79ga9424PCY",
        "outputId": "714c339a-f9ea-4177-af46-2740052353c4"
      },
      "execution_count": 5,
      "outputs": [
        {
          "output_type": "stream",
          "name": "stdout",
          "text": [
            "[[11. 22. 33.]\n",
            " [14. 25. 36.]]\n",
            "[[ 2.  4.  6.]\n",
            " [ 8. 10. 12.]]\n"
          ]
        }
      ]
    },
    {
      "cell_type": "code",
      "source": [
        "x = np.array([1,2,3,4], dtype=np.int64)\n",
        "\n",
        "print(np.add.reduce(x))         # 10\n",
        "print(np.multiply.reduce(x))    # 24\n",
        "\n",
        "print(np.add.accumulate(x))     # [1, 3, 6, 10]\n",
        "np.multiply.accumulate(x)# [1, 2, 6, 24]\n",
        "\n",
        "np.multiply.outer([1,2,3],[10,20])  # 3x2 table"
      ],
      "metadata": {
        "colab": {
          "base_uri": "https://localhost:8080/"
        },
        "id": "E_R22k5e5vsC",
        "outputId": "063dba72-a443-427e-e073-cc89463cfa75"
      },
      "execution_count": 9,
      "outputs": [
        {
          "output_type": "stream",
          "name": "stdout",
          "text": [
            "10\n",
            "24\n",
            "[ 1  3  6 10]\n"
          ]
        },
        {
          "output_type": "execute_result",
          "data": {
            "text/plain": [
              "array([[10, 20],\n",
              "       [20, 40],\n",
              "       [30, 60]])"
            ]
          },
          "metadata": {},
          "execution_count": 9
        }
      ]
    },
    {
      "cell_type": "code",
      "source": [],
      "metadata": {
        "id": "p1hD8TaG6fO8"
      },
      "execution_count": null,
      "outputs": []
    }
  ]
}