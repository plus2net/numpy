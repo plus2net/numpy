{
  "nbformat": 4,
  "nbformat_minor": 0,
  "metadata": {
    "colab": {
      "provenance": [],
      "authorship_tag": "ABX9TyOGFRCOQ7HJ7eICbjvp+SCt",
      "include_colab_link": true
    },
    "kernelspec": {
      "name": "python3",
      "display_name": "Python 3"
    },
    "language_info": {
      "name": "python"
    }
  },
  "cells": [
    {
      "cell_type": "markdown",
      "metadata": {
        "id": "view-in-github",
        "colab_type": "text"
      },
      "source": [
        "<a href=\"https://colab.research.google.com/github/plus2net/numpy/blob/main/numpy_17_ufuncs.ipynb\" target=\"_parent\"><img src=\"https://colab.research.google.com/assets/colab-badge.svg\" alt=\"Open In Colab\"/></a>"
      ]
    },
    {
      "cell_type": "markdown",
      "source": [
        "![alt text](https://www.plus2net.com/images/top2.jpg)        Read more on [ufuncs  ](https://www.plus2net.com/python/numpy-ufuncs.php) | [ Numpy ](https://www.plus2net.com/python/numpy.php)"
      ],
      "metadata": {
        "id": "IzacesE1Lrgq"
      }
    },
    {
      "cell_type": "code",
      "source": [
        "import numpy as np\n",
        "\n",
        "x = np.array([1., 4., 9.])\n",
        "print(np.sqrt(x))              # elementwise sqrt; <class 'numpy.ufunc'>\n",
        "\n",
        "a = np.array([1,2,3], dtype=np.float64)\n",
        "b = np.array([10,20,30], dtype=np.float64)\n",
        "np.add(a, b)            # same as a + b (binary ufunc)"
      ],
      "metadata": {
        "colab": {
          "base_uri": "https://localhost:8080/"
        },
        "id": "dNyrk4jp3zY-",
        "outputId": "b6773dc7-54f3-4ac2-cfc6-104b31e6e133"
      },
      "execution_count": 3,
      "outputs": [
        {
          "output_type": "stream",
          "name": "stdout",
          "text": [
            "[1. 2. 3.]\n"
          ]
        },
        {
          "output_type": "execute_result",
          "data": {
            "text/plain": [
              "array([11., 22., 33.])"
            ]
          },
          "metadata": {},
          "execution_count": 3
        }
      ]
    },
    {
      "cell_type": "code",
      "source": [
        "M = np.array([[1,2,3],[4,5,6]], dtype=np.float64)  # (2,3)\n",
        "v = np.array([10,20,30], dtype=np.float64)          # (3,)\n",
        "print(np.add(M, v))       # v broadcasts across rows\n",
        "print(np.multiply(M, 2))  # scalar broadcast"
      ],
      "metadata": {
        "colab": {
          "base_uri": "https://localhost:8080/"
        },
        "id": "V79ga9424PCY",
        "outputId": "714c339a-f9ea-4177-af46-2740052353c4"
      },
      "execution_count": 5,
      "outputs": [
        {
          "output_type": "stream",
          "name": "stdout",
          "text": [
            "[[11. 22. 33.]\n",
            " [14. 25. 36.]]\n",
            "[[ 2.  4.  6.]\n",
            " [ 8. 10. 12.]]\n"
          ]
        }
      ]
    },
    {
      "cell_type": "code",
      "source": [
        "x = np.array([1,2,3,4], dtype=np.int64)\n",
        "\n",
        "print(np.add.reduce(x))         # 10\n",
        "print(np.multiply.reduce(x))    # 24\n",
        "\n",
        "print(np.add.accumulate(x))     # [1, 3, 6, 10]\n",
        "np.multiply.accumulate(x)# [1, 2, 6, 24]\n",
        "\n",
        "np.multiply.outer([1,2,3],[10,20])  # 3x2 table"
      ],
      "metadata": {
        "colab": {
          "base_uri": "https://localhost:8080/"
        },
        "id": "E_R22k5e5vsC",
        "outputId": "063dba72-a443-427e-e073-cc89463cfa75"
      },
      "execution_count": 9,
      "outputs": [
        {
          "output_type": "stream",
          "name": "stdout",
          "text": [
            "10\n",
            "24\n",
            "[ 1  3  6 10]\n"
          ]
        },
        {
          "output_type": "execute_result",
          "data": {
            "text/plain": [
              "array([[10, 20],\n",
              "       [20, 40],\n",
              "       [30, 60]])"
            ]
          },
          "metadata": {},
          "execution_count": 9
        }
      ]
    },
    {
      "cell_type": "code",
      "source": [
        "x = np.array([-1., 0., 4., 9.])\n",
        "root = np.empty_like(x)\n",
        "\n",
        "np.sqrt(x, where=(x >= 0), out=root)   # masked compute\n",
        "# root: [0., 0., 2., 3.]\n",
        "\n",
        "y = np.array([1., 2., 3., 4.])\n",
        "np.add(y, 5., out=y)                   # in-place style update"
      ],
      "metadata": {
        "colab": {
          "base_uri": "https://localhost:8080/"
        },
        "id": "p1hD8TaG6fO8",
        "outputId": "e895afd0-c190-46bd-809d-d672d8805f91"
      },
      "execution_count": 10,
      "outputs": [
        {
          "output_type": "execute_result",
          "data": {
            "text/plain": [
              "array([6., 7., 8., 9.])"
            ]
          },
          "metadata": {},
          "execution_count": 10
        }
      ]
    },
    {
      "cell_type": "code",
      "source": [
        "a = np.array([1, 2, 3], dtype=np.int16)\n",
        "b = np.array([1.5, 2.5, 3.5], dtype=np.float32)\n",
        "c = np.add(a, b)     # upcasts to float32\n",
        "c.dtype\n",
        "\n",
        "d = np.empty_like(b, dtype=np.float64)\n",
        "np.add(a, b, out=d)  # control result dtype"
      ],
      "metadata": {
        "colab": {
          "base_uri": "https://localhost:8080/"
        },
        "id": "mn3oAzzN8A5h",
        "outputId": "bb05ec2d-8a11-43fd-d984-0abaead0df98"
      },
      "execution_count": 11,
      "outputs": [
        {
          "output_type": "execute_result",
          "data": {
            "text/plain": [
              "array([2.5, 4.5, 6.5])"
            ]
          },
          "metadata": {},
          "execution_count": 11
        }
      ]
    },
    {
      "cell_type": "code",
      "source": [
        "import numpy as np\n",
        "\n",
        "def hypotenuse(a, b):          # pure Python\n",
        "    return (a*a + b*b) ** 0.5\n",
        "\n",
        "hypot_ufunc = np.frompyfunc(hypotenuse, 2, 1)\n",
        "\n",
        "a = np.array([3, 5, 8])\n",
        "b = np.array([4,12,15])\n",
        "r = hypot_ufunc(a, b)          # dtype=object\n",
        "r = r.astype(np.float64)       # cast if numeric needed"
      ],
      "metadata": {
        "id": "gDlhdj5x8EQ7"
      },
      "execution_count": 12,
      "outputs": []
    },
    {
      "cell_type": "code",
      "source": [
        "f  = lambda x: x**2 + 1\n",
        "vf = np.vectorize(f)            # convenience wrapper\n",
        "uf = np.frompyfunc(f, 1, 1)\n",
        "\n",
        "x = np.arange(5)\n",
        "vf(x), uf(x)   # similar API; uf returns object dtype"
      ],
      "metadata": {
        "colab": {
          "base_uri": "https://localhost:8080/"
        },
        "id": "Gb1ksaj68JRx",
        "outputId": "df21d466-47e0-4500-9a80-f27e35b28ed7"
      },
      "execution_count": 13,
      "outputs": [
        {
          "output_type": "execute_result",
          "data": {
            "text/plain": [
              "(array([ 1,  2,  5, 10, 17]), array([1, 2, 5, 10, 17], dtype=object))"
            ]
          },
          "metadata": {},
          "execution_count": 13
        }
      ]
    },
    {
      "cell_type": "code",
      "source": [
        "# Jupyter sketch (use %timeit)\n",
        "x = np.random.rand(1_000_000).astype(np.float32)\n",
        "# %timeit np.add(np.multiply(x, x), 1, out=np.empty_like(x))"
      ],
      "metadata": {
        "id": "JAkOAw9r-Amk"
      },
      "execution_count": 14,
      "outputs": []
    }
  ]
}