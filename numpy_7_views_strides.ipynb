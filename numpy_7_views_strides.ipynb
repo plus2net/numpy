{
  "nbformat": 4,
  "nbformat_minor": 0,
  "metadata": {
    "colab": {
      "provenance": [],
      "authorship_tag": "ABX9TyPtWFCpVXx9/1FcvnxocX39",
      "include_colab_link": true
    },
    "kernelspec": {
      "name": "python3",
      "display_name": "Python 3"
    },
    "language_info": {
      "name": "python"
    }
  },
  "cells": [
    {
      "cell_type": "markdown",
      "metadata": {
        "id": "view-in-github",
        "colab_type": "text"
      },
      "source": [
        "<a href=\"https://colab.research.google.com/github/plus2net/numpy/blob/main/numpy_7_views_strides.ipynb\" target=\"_parent\"><img src=\"https://colab.research.google.com/assets/colab-badge.svg\" alt=\"Open In Colab\"/></a>"
      ]
    },
    {
      "cell_type": "markdown",
      "source": [
        "![alt text](https://www.plus2net.com/images/top2.jpg)        Read more on [Broadcasting  ](https://www.plus2net.com/python/numpy-broadcasting.php) | [ Numpy ](https://www.plus2net.com/python/numpy.php)"
      ],
      "metadata": {
        "id": "IzacesE1Lrgq"
      }
    },
    {
      "cell_type": "code",
      "execution_count": 2,
      "metadata": {
        "id": "6fxC7yFUGXbd",
        "colab": {
          "base_uri": "https://localhost:8080/"
        },
        "outputId": "d6f94993-5d24-45f2-d83c-2a99ce502d02"
      },
      "outputs": [
        {
          "output_type": "stream",
          "name": "stdout",
          "text": [
            "[ 0 99  2  3  4  5]\n",
            "[99  2  3]\n"
          ]
        }
      ],
      "source": [
        "import numpy as np\n",
        "\n",
        "a = np.arange(6)          # [0 1 2 3 4 5]\n",
        "s = a[1:4]                # slice -> view\n",
        "s[0] = 99\n",
        "print(a)                  # [ 0 99  2  3  4  5]  changed!\n",
        "\n",
        "c = a[1:4].copy()         # explicit copy\n",
        "c[0] = -1\n",
        "print(a[1:4])             # original unchanged now"
      ]
    },
    {
      "cell_type": "code",
      "source": [
        "M = np.arange(12, dtype=np.int32).reshape(3,4)\n",
        "print(M.shape, M.dtype, M.strides)  # e.g. (3, 4), int32, (16, 4) on typical systems\n",
        "# (16 bytes to move to next row, 4 bytes to move to next column)\n",
        "\n",
        "row_view = M[::2, :]                 # step of 2 in rows\n",
        "print(row_view.shape, row_view.strides)\n",
        "\n",
        "col_view = M[:, ::2]                 # step of 2 in cols\n",
        "print(col_view.shape, col_view.strides)"
      ],
      "metadata": {
        "colab": {
          "base_uri": "https://localhost:8080/"
        },
        "id": "hpf-OxsFiQ7F",
        "outputId": "bdfa62b0-a862-4cbe-849c-d8d1e546ae9d"
      },
      "execution_count": 3,
      "outputs": [
        {
          "output_type": "stream",
          "name": "stdout",
          "text": [
            "(3, 4) int32 (16, 4)\n",
            "(2, 4) (32, 4)\n",
            "(3, 2) (16, 8)\n"
          ]
        }
      ]
    },
    {
      "cell_type": "code",
      "source": [
        "A = np.arange(12).reshape(3,4)         # default C-order\n",
        "print(A.flags['C_CONTIGUOUS'], A.flags['F_CONTIGUOUS'])  # True, False\n",
        "\n",
        "F = np.asfortranarray(A)\n",
        "print(F.flags['C_CONTIGUOUS'], F.flags['F_CONTIGUOUS'])  # False, True"
      ],
      "metadata": {
        "colab": {
          "base_uri": "https://localhost:8080/"
        },
        "id": "yfMoYj97iXsR",
        "outputId": "5700eefc-dc3d-445f-8e7e-866c459cb195"
      },
      "execution_count": 4,
      "outputs": [
        {
          "output_type": "stream",
          "name": "stdout",
          "text": [
            "True False\n",
            "False True\n"
          ]
        }
      ]
    },
    {
      "cell_type": "code",
      "source": [
        "X = np.arange(9).reshape(3,3)\n",
        "rv = X.ravel()     # likely a view\n",
        "fl = X.flatten()   # copy\n",
        "rv[0] = 99\n",
        "print(X[0,0])      # may change because rv often views original"
      ],
      "metadata": {
        "colab": {
          "base_uri": "https://localhost:8080/"
        },
        "id": "Xnh4BYCxicN_",
        "outputId": "edcb942b-206c-4567-c8b4-338df2c440e0"
      },
      "execution_count": 5,
      "outputs": [
        {
          "output_type": "stream",
          "name": "stdout",
          "text": [
            "99\n"
          ]
        }
      ]
    },
    {
      "cell_type": "code",
      "source": [
        "Y = np.arange(12)\n",
        "Y2 = Y.reshape(3,4)     # view (contiguous)\n",
        "Y3 = Y2.T.reshape(6,2)  # may need a copy due to transpose (non-contiguous)\n",
        "print(Y2.base is Y)     # True (shares memory)"
      ],
      "metadata": {
        "colab": {
          "base_uri": "https://localhost:8080/"
        },
        "id": "_61rDFFSigWd",
        "outputId": "4c27e7de-3f33-4d8b-f4f8-c14735b9c5f1"
      },
      "execution_count": 6,
      "outputs": [
        {
          "output_type": "stream",
          "name": "stdout",
          "text": [
            "True\n"
          ]
        }
      ]
    },
    {
      "cell_type": "code",
      "source": [
        "from numpy.lib.stride_tricks import as_strided\n",
        "\n",
        "a = np.arange(10, dtype=np.int32)\n",
        "# Create a sliding window view of width 4\n",
        "window = 4\n",
        "shape = (a.size - window + 1, window)\n",
        "strides = (a.strides[0], a.strides[0])\n",
        "w = as_strided(a, shape=shape, strides=strides)  # view only\n",
        "print(w[:3])\n",
        "# Always ensure the computed windows stay within the buffer!"
      ],
      "metadata": {
        "colab": {
          "base_uri": "https://localhost:8080/"
        },
        "id": "UyjIWu3Yih0V",
        "outputId": "dcda7991-c28e-4787-d306-145add3c1de7"
      },
      "execution_count": 7,
      "outputs": [
        {
          "output_type": "stream",
          "name": "stdout",
          "text": [
            "[[0 1 2 3]\n",
            " [1 2 3 4]\n",
            " [2 3 4 5]]\n"
          ]
        }
      ]
    },
    {
      "cell_type": "code",
      "source": [
        "Z = np.arange(8)\n",
        "v = Z[::2]\n",
        "c = Z[::2].copy()\n",
        "print(v.base is Z, c.base is Z)   # True, False"
      ],
      "metadata": {
        "colab": {
          "base_uri": "https://localhost:8080/"
        },
        "id": "Qyyw33uYin1K",
        "outputId": "1a3841a1-72d0-4061-898f-39507f7be4cb"
      },
      "execution_count": 8,
      "outputs": [
        {
          "output_type": "stream",
          "name": "stdout",
          "text": [
            "True False\n"
          ]
        }
      ]
    },
    {
      "cell_type": "code",
      "source": [
        "# 1) Prove that slicing returns a view by modifying a slice\n",
        "a = np.arange(10)\n",
        "b = a[3:8]\n",
        "b[:] = -1\n",
        "print(a)  # indices 3..7 should be -1\n",
        "\n",
        "# 2) Show ravel vs flatten behavior on a transposed array\n",
        "X = np.arange(12).reshape(3,4)\n",
        "XT = X.T\n",
        "r = XT.ravel()      # likely a copy now (non-contiguous)\n",
        "f = XT.flatten()    # copy\n",
        "r[0] = 999\n",
        "print(X[0,0])       # check whether original changed\n",
        "\n",
        "# 3) Compute strides of a 2D array and a strided subview\n",
        "M = np.arange(24, dtype=np.int64).reshape(4,6)\n",
        "S = M[::2, ::3]\n",
        "print(M.strides, S.strides, S.shape)\n",
        "\n",
        "# 4) Create a safe sliding window function using as_strided\n",
        "def sliding_window(a, w):\n",
        "    from numpy.lib.stride_tricks import as_strided\n",
        "    shape = (a.size - w + 1, w)\n",
        "    strides = (a.strides[0], a.strides[0])\n",
        "    return as_strided(a, shape=shape, strides=strides)\n",
        "print(sliding_window(np.arange(7), 3))"
      ],
      "metadata": {
        "colab": {
          "base_uri": "https://localhost:8080/"
        },
        "id": "v0bFbCUrisKk",
        "outputId": "a24c02a6-8e86-4dda-b720-c614797903a7"
      },
      "execution_count": 9,
      "outputs": [
        {
          "output_type": "stream",
          "name": "stdout",
          "text": [
            "[ 0  1  2 -1 -1 -1 -1 -1  8  9]\n",
            "0\n",
            "(48, 8) (96, 24) (2, 2)\n",
            "[[0 1 2]\n",
            " [1 2 3]\n",
            " [2 3 4]\n",
            " [3 4 5]\n",
            " [4 5 6]]\n"
          ]
        }
      ]
    }
  ]
}