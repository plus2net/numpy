{
  "nbformat": 4,
  "nbformat_minor": 0,
  "metadata": {
    "colab": {
      "provenance": [],
      "authorship_tag": "ABX9TyMpaH8nfO4N83jPYSHpN7rB",
      "include_colab_link": true
    },
    "kernelspec": {
      "name": "python3",
      "display_name": "Python 3"
    },
    "language_info": {
      "name": "python"
    }
  },
  "cells": [
    {
      "cell_type": "markdown",
      "metadata": {
        "id": "view-in-github",
        "colab_type": "text"
      },
      "source": [
        "<a href=\"https://colab.research.google.com/github/plus2net/numpy/blob/main/numpy_14_performance_opimization.ipynb\" target=\"_parent\"><img src=\"https://colab.research.google.com/assets/colab-badge.svg\" alt=\"Open In Colab\"/></a>"
      ]
    },
    {
      "cell_type": "markdown",
      "source": [
        "![alt text](https://www.plus2net.com/images/top2.jpg)        Read more on [Performance Optimization ](https://www.plus2net.com/python/numpy-peformance-optimization.php) | [ Numpy ](https://www.plus2net.com/python/numpy.php)"
      ],
      "metadata": {
        "id": "IzacesE1Lrgq"
      }
    },
    {
      "cell_type": "code",
      "execution_count": 1,
      "metadata": {
        "id": "6fxC7yFUGXbd",
        "colab": {
          "base_uri": "https://localhost:8080/"
        },
        "outputId": "aea704f5-eaf5-49c6-ee25-7b2b3be09529"
      },
      "outputs": [
        {
          "output_type": "stream",
          "name": "stdout",
          "text": [
            "loop  : 1.1939385209999998\n",
            "vector: 0.005123134999998058\n"
          ]
        }
      ],
      "source": [
        "import numpy as np, timeit\n",
        "\n",
        "# Notebook: %timeit (example comments)\n",
        "# %timeit np.arange(10_000_000)  # fast construction\n",
        "\n",
        "x = np.random.rand(1_000_000)\n",
        "def loop_square(x):\n",
        "    out = np.empty_like(x)\n",
        "    for i, v in enumerate(x):\n",
        "        out[i] = v*v\n",
        "    return out\n",
        "\n",
        "print('loop  :', timeit.timeit(lambda: loop_square(x), number=3))\n",
        "print('vector:', timeit.timeit(lambda: x*x, number=3))"
      ]
    },
    {
      "cell_type": "code",
      "source": [
        "X = np.random.randn(2_000, 512)\n",
        "w = np.random.randn(512)\n",
        "# Vectorized dot per row\n",
        "y = X @ w\n",
        "# Equivalent but slower (Python loop)\n",
        "# y = np.array([(row * w).sum() for row in X])"
      ],
      "metadata": {
        "id": "n3nrmDrfKcIZ"
      },
      "execution_count": 2,
      "outputs": []
    },
    {
      "cell_type": "code",
      "source": [
        "A = np.arange(12).reshape(3,4)\n",
        "AT = A.T\n",
        "print(A.flags['C_CONTIGUOUS'], AT.flags['C_CONTIGUOUS'])  # True, False\n",
        "\n",
        "# Ensure contiguity when required by downstream libraries\n",
        "ATc = np.ascontiguousarray(AT)"
      ],
      "metadata": {
        "colab": {
          "base_uri": "https://localhost:8080/"
        },
        "id": "1qQ3DupHKjog",
        "outputId": "c46fc079-a931-43fd-f648-1e3f08f55a09"
      },
      "execution_count": 3,
      "outputs": [
        {
          "output_type": "stream",
          "name": "stdout",
          "text": [
            "True False\n"
          ]
        }
      ]
    },
    {
      "cell_type": "code",
      "source": [
        "x = np.ones(5)\n",
        "y = np.arange(5, dtype=float)\n",
        "\n",
        "# Bad: creates temporaries\n",
        "z = (x + y) * 2 - y\n",
        "\n",
        "# Better: reuse buffers with out=\n",
        "tmp = np.empty_like(x)\n",
        "np.add(x, y, out=tmp)     # tmp = x + y\n",
        "np.multiply(tmp, 2, out=tmp)\n",
        "z2 = np.subtract(tmp, y)  # allocates z2 once\n",
        "\n",
        "# In-place when safe (watch aliasing!)\n",
        "y += 2\n",
        "y *= 0.5"
      ],
      "metadata": {
        "id": "F4Z8wpbaKoCs"
      },
      "execution_count": 4,
      "outputs": []
    },
    {
      "cell_type": "code",
      "source": [
        "B = np.arange(12).reshape(3,4)\n",
        "col_bias = np.array([10,20,30])[:, None]   # (3,1)\n",
        "# Preferred:\n",
        "C = B + col_bias     # broadcast (3,4)\n",
        "# Avoid:\n",
        "C2 = B + np.tile(col_bias, (1,4))  # makes a (3,4) copy first"
      ],
      "metadata": {
        "id": "zwh-mN-MKqyP"
      },
      "execution_count": 5,
      "outputs": []
    },
    {
      "cell_type": "code",
      "source": [
        "N = 10_000_000\n",
        "a32 = np.ones(N, dtype=np.float32)\n",
        "a64 = np.ones(N, dtype=np.float64)\n",
        "print(a32.nbytes/1e6, 'MB', a64.nbytes/1e6, 'MB')  # ~40MB vs ~80MB\n",
        "\n",
        "# Accumulations: promote to float64 if needed\n",
        "s = a32.astype(np.float64).sum()"
      ],
      "metadata": {
        "colab": {
          "base_uri": "https://localhost:8080/"
        },
        "id": "Y8vPgLk0KuUi",
        "outputId": "525da22c-24aa-4a60-fc77-49db431ca7a6"
      },
      "execution_count": 6,
      "outputs": [
        {
          "output_type": "stream",
          "name": "stdout",
          "text": [
            "40.0 MB 80.0 MB\n"
          ]
        }
      ]
    },
    {
      "cell_type": "code",
      "source": [
        "N = 1_000_000\n",
        "\n",
        "# Bad: list append then np.array\n",
        "lst = []\n",
        "for i in range(N): lst.append(i*i)\n",
        "arr_bad = np.array(lst)\n",
        "\n",
        "# Better: preallocate\n",
        "arr = np.empty(N, dtype=np.int64)\n",
        "for i in range(N): arr[i] = i*i\n",
        "\n",
        "# Best: vectorized\n",
        "arr_vec = np.arange(N, dtype=np.int64)**2"
      ],
      "metadata": {
        "id": "VrHVfT3eKzEw"
      },
      "execution_count": 7,
      "outputs": []
    },
    {
      "cell_type": "code",
      "source": [
        "X = np.random.rand(1_000, 1_000).astype(np.float64)\n",
        "# heavy math in float64; at the end compress to float32 for storage\n",
        "Y = np.tanh(X @ X.T)\n",
        "Y32 = Y.astype(np.float32)   # single cast at pipeline end"
      ],
      "metadata": {
        "id": "h42FU5M6K275"
      },
      "execution_count": 8,
      "outputs": []
    },
    {
      "cell_type": "code",
      "source": [
        "A = np.random.rand(2_000, 512)\n",
        "# Mean across axis=1 visits contiguous memory per row\n",
        "m1 = A.mean(axis=1)\n",
        "# If your layout differs, consider transposing once then compute"
      ],
      "metadata": {
        "id": "ITJSfa8CK5wm"
      },
      "execution_count": 9,
      "outputs": []
    },
    {
      "cell_type": "code",
      "source": [
        "import numpy as np, timeit\n",
        "\n",
        "A = np.random.rand(5_000, 512)\n",
        "B = np.random.rand(5_000, 512)\n",
        "\n",
        "def add_temporary(A, B):\n",
        "    return (A * 1.1) + (B * 0.9)\n",
        "\n",
        "def add_inplace(A, B):\n",
        "    out = np.empty_like(A)\n",
        "    np.multiply(A, 1.1, out=out)\n",
        "    np.add(out, B*0.9, out=out)\n",
        "    return out\n",
        "\n",
        "print('temp  :', timeit.timeit(lambda: add_temporary(A,B), number=5))\n",
        "print('inplace:', timeit.timeit(lambda: add_inplace(A,B), number=5))"
      ],
      "metadata": {
        "colab": {
          "base_uri": "https://localhost:8080/"
        },
        "id": "nOIeKTQ6K8p_",
        "outputId": "0fbca125-55fa-4e30-f20b-6e8394c3cae5"
      },
      "execution_count": 10,
      "outputs": [
        {
          "output_type": "stream",
          "name": "stdout",
          "text": [
            "temp  : 0.09538527399999452\n",
            "inplace: 0.08797747500000241\n"
          ]
        }
      ]
    },
    {
      "cell_type": "code",
      "source": [
        "import numpy as np, timeit\n",
        "\n",
        "# 1) Benchmark loop vs vector for squaring 2M floats\n",
        "x = np.random.rand(2_000_000)\n",
        "def loop_sq(x):\n",
        "    out = np.empty_like(x)\n",
        "    for i,v in enumerate(x): out[i] = v*v\n",
        "    return out\n",
        "print('%timeit-like (loop):', timeit.timeit(lambda: loop_sq(x), number=1))\n",
        "print('%timeit-like (vec) :', timeit.timeit(lambda: x*x, number=1))\n",
        "\n",
        "# 2) Show effect of contiguity on a transpose before heavy matmul\n",
        "A = np.random.rand(2000, 512)\n",
        "AT = A.T\n",
        "ATc = np.ascontiguousarray(AT)\n",
        "print(timeit.timeit(lambda: AT @ A, number=1),\n",
        "      timeit.timeit(lambda: ATc @ A, number=1))\n",
        "\n",
        "# 3) Rewrite an expression to use ufunc out= and fewer temporaries\n",
        "B = np.random.rand(1000, 1000)\n",
        "C = np.random.rand(1000, 1000)\n",
        "# target: (B - B.mean(0)) / (B.std(0) + 1e-6) + 0.25*C"
      ],
      "metadata": {
        "colab": {
          "base_uri": "https://localhost:8080/"
        },
        "id": "o4SRatbpK_8N",
        "outputId": "eba41f90-7e1c-4a1c-b22c-6e2b2a837165"
      },
      "execution_count": 11,
      "outputs": [
        {
          "output_type": "stream",
          "name": "stdout",
          "text": [
            "%timeit-like (loop): 0.8945789219999938\n",
            "%timeit-like (vec) : 0.0036199810000141497\n",
            "0.055071933000022 0.05909920900000998\n"
          ]
        }
      ]
    }
  ]
}