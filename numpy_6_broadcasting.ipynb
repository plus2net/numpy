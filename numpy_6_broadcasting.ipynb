{
  "nbformat": 4,
  "nbformat_minor": 0,
  "metadata": {
    "colab": {
      "provenance": [],
      "authorship_tag": "ABX9TyOFVfvV/ETg6TH8lG6iz/Wo",
      "include_colab_link": true
    },
    "kernelspec": {
      "name": "python3",
      "display_name": "Python 3"
    },
    "language_info": {
      "name": "python"
    }
  },
  "cells": [
    {
      "cell_type": "markdown",
      "metadata": {
        "id": "view-in-github",
        "colab_type": "text"
      },
      "source": [
        "<a href=\"https://colab.research.google.com/github/plus2net/numpy/blob/main/numpy_6_broadcasting.ipynb\" target=\"_parent\"><img src=\"https://colab.research.google.com/assets/colab-badge.svg\" alt=\"Open In Colab\"/></a>"
      ]
    },
    {
      "cell_type": "markdown",
      "source": [
        "![alt text](https://www.plus2net.com/images/top2.jpg)        Read more on [Broadcasting  ](https://www.plus2net.com/python/numpy-broadcasting.php) | [ Numpy ](https://www.plus2net.com/python/numpy.php)"
      ],
      "metadata": {
        "id": "IzacesE1Lrgq"
      }
    },
    {
      "cell_type": "code",
      "execution_count": 1,
      "metadata": {
        "id": "6fxC7yFUGXbd"
      },
      "outputs": [],
      "source": [
        "# Example A: (3, 4) +/- (4,)  -> OK\n",
        "# Align from right:   (3, 4)\n",
        "#                     (   4)   <-- 1D treated as (1,4), row-wise\n",
        "# Result: (3,4)\n",
        "\n",
        "# Example B: (3, 1) + (1, 4) -> OK\n",
        "# Align:        (3, 1)\n",
        "#               (1, 4)\n",
        "# Result: (3,4)  (each 1 expands)\n",
        "\n",
        "# Example C: (2, 3) + (2,) -> FAIL\n",
        "# Align:       (2, 3)\n",
        "#              (   2)\n",
        "# 3 != 2 and neither is 1  -> ValueError"
      ]
    },
    {
      "cell_type": "code",
      "source": [
        "import numpy as np\n",
        "\n",
        "A = np.arange(12).reshape(3,4)\n",
        "row = np.array([10, 20, 30, 40])         # shape (4,)\n",
        "col = np.array([[100],[200],[300]])      # shape (3,1)\n",
        "\n",
        "print(A + row)  # adds to each row\n",
        "print(A + col)  # adds to each column group"
      ],
      "metadata": {
        "colab": {
          "base_uri": "https://localhost:8080/"
        },
        "id": "EfNlRl6TOBXf",
        "outputId": "40c3861c-2b3b-408b-9ff4-bb50c74f8a18"
      },
      "execution_count": 2,
      "outputs": [
        {
          "output_type": "stream",
          "name": "stdout",
          "text": [
            "[[10 21 32 43]\n",
            " [14 25 36 47]\n",
            " [18 29 40 51]]\n",
            "[[100 101 102 103]\n",
            " [204 205 206 207]\n",
            " [308 309 310 311]]\n"
          ]
        }
      ]
    },
    {
      "cell_type": "code",
      "source": [
        "v = np.array([1, 2, 3, 4])   # shape (4,)\n",
        "\n",
        "row_v = v[np.newaxis, :]     # (1,4)  row vector\n",
        "col_v = v[:, np.newaxis]     # (4,1)  column vector\n",
        "\n",
        "M = np.arange(8).reshape(2,4)\n",
        "\n",
        "print(M + row_v)             # OK: (2,4) + (1,4) -> (2,4)\n",
        "print(M + col_v)             # ValueError: (2,4) + (4,1)  -- incompatible\n",
        "# To add col-wise properly:\n",
        "print(M + col_v[:2])         # (2,4) + (2,1) -> (2,4)"
      ],
      "metadata": {
        "colab": {
          "base_uri": "https://localhost:8080/"
        },
        "id": "J9Pl2etWOG9n",
        "outputId": "b124b4c1-c9cf-44f3-ed67-16ebed2323b9"
      },
      "execution_count": 4,
      "outputs": [
        {
          "output_type": "stream",
          "name": "stdout",
          "text": [
            "[[ 1  3  5  7]\n",
            " [ 5  7  9 11]]\n",
            "[[1 2 3 4]\n",
            " [6 7 8 9]]\n"
          ]
        }
      ]
    },
    {
      "cell_type": "code",
      "source": [
        "T = np.arange(2*3*4).reshape(2,3,4)  # (depth=2, rows=3, cols=4)\n",
        "bias_row = np.array([1,2,3,4])       # (4,)\n",
        "bias_depth = np.array([100, 200])    # (2,)\n",
        "\n",
        "print(T + bias_row)                  # (2,3,4) + (4,)    -> (2,3,4)\n",
        "print(T + bias_depth[:, None, None]) # (2,3,4) + (2,1,1) -> (2,3,4)"
      ],
      "metadata": {
        "colab": {
          "base_uri": "https://localhost:8080/"
        },
        "id": "pwYcheSCORhU",
        "outputId": "42ad3a03-f599-4ddb-842b-7f21ddb86f3f"
      },
      "execution_count": 7,
      "outputs": [
        {
          "output_type": "stream",
          "name": "stdout",
          "text": [
            "[[[ 1  3  5  7]\n",
            "  [ 5  7  9 11]\n",
            "  [ 9 11 13 15]]\n",
            "\n",
            " [[13 15 17 19]\n",
            "  [17 19 21 23]\n",
            "  [21 23 25 27]]]\n",
            "[[[100 101 102 103]\n",
            "  [104 105 106 107]\n",
            "  [108 109 110 111]]\n",
            "\n",
            " [[212 213 214 215]\n",
            "  [216 217 218 219]\n",
            "  [220 221 222 223]]]\n"
          ]
        }
      ]
    },
    {
      "cell_type": "code",
      "source": [
        "# Standardize columns: (N, D) array -> subtract column means, divide by std\n",
        "X = np.array([[1.0, 2.0, 3.0],\n",
        "              [2.0, 3.0, 4.0],\n",
        "              [3.0, 4.0, 5.0]])\n",
        "mu = X.mean(axis=0)           # (D,)\n",
        "sigma = X.std(axis=0)         # (D,)\n",
        "Xz = (X - mu) / sigma         # (N,D) - (D,) -> (N,D)\n",
        "\n",
        "# Distance matrix between two sets: (N, d) and (M, d)\n",
        "A = np.array([[0,0],[1,1],[2,2]])       # (3,2)\n",
        "B = np.array([[0,1],[1,2]])             # (2,2)\n",
        "diff = A[:, None, :] - B[None, :, :]    # (3,1,2) - (1,2,2) -> (3,2,2)\n",
        "D = np.sqrt((diff**2).sum(axis=-1))     # (3,2)"
      ],
      "metadata": {
        "id": "XJgMzS0OO6is"
      },
      "execution_count": 8,
      "outputs": []
    },
    {
      "cell_type": "code",
      "source": [
        "a = np.arange(6).reshape(2,3)   # (2,3)\n",
        "b = np.array([10,20])           # (2,)\n",
        "# a + b -> ValueError (because 3 != 2, neither is 1)\n",
        "\n",
        "# Fix 1: treat b as column vector (2,1)\n",
        "b_col = b[:, None]\n",
        "print(a + b_col)                # (2,3) + (2,1) -> (2,3)\n",
        "\n",
        "# Fix 2: repeat/expand if truly needed (use with care)\n",
        "b_tiled = np.tile(b[:, None], (1, 3))  # explicit (2,3)\n",
        "print(a + b_tiled)"
      ],
      "metadata": {
        "colab": {
          "base_uri": "https://localhost:8080/"
        },
        "id": "KKVmmPtoO_3A",
        "outputId": "7e2b1d6b-330a-4e54-ed33-baed89f7b3a9"
      },
      "execution_count": 9,
      "outputs": [
        {
          "output_type": "stream",
          "name": "stdout",
          "text": [
            "[[10 11 12]\n",
            " [23 24 25]]\n",
            "[[10 11 12]\n",
            " [23 24 25]]\n"
          ]
        }
      ]
    },
    {
      "cell_type": "code",
      "source": [
        "# 1) Add a column bias [100, 200, 300] to a (3,4) matrix using broadcasting\n",
        "M = np.arange(12).reshape(3,4)\n",
        "bias = np.array([100, 200, 300])[:, None]\n",
        "print(M + bias)\n",
        "\n",
        "# 2) Scale each column of (5,3) by [1.0, 0.5, 2.0] without loops\n",
        "X = np.arange(15).reshape(5,3)\n",
        "scale = np.array([1.0, 0.5, 2.0])\n",
        "print(X * scale)\n",
        "\n",
        "# 3) Given (2,3,4) tensor T, add depth-wise bias [10, 20] correctly\n",
        "T = np.arange(24).reshape(2,3,4)\n",
        "depth_bias = np.array([10, 20])[:, None, None]\n",
        "print(T + depth_bias)"
      ],
      "metadata": {
        "colab": {
          "base_uri": "https://localhost:8080/"
        },
        "id": "kUHGq1j8PE4U",
        "outputId": "457881f2-50b3-425b-bfae-7a9cc94c2f94"
      },
      "execution_count": 10,
      "outputs": [
        {
          "output_type": "stream",
          "name": "stdout",
          "text": [
            "[[100 101 102 103]\n",
            " [204 205 206 207]\n",
            " [308 309 310 311]]\n",
            "[[ 0.   0.5  4. ]\n",
            " [ 3.   2.  10. ]\n",
            " [ 6.   3.5 16. ]\n",
            " [ 9.   5.  22. ]\n",
            " [12.   6.5 28. ]]\n",
            "[[[10 11 12 13]\n",
            "  [14 15 16 17]\n",
            "  [18 19 20 21]]\n",
            "\n",
            " [[32 33 34 35]\n",
            "  [36 37 38 39]\n",
            "  [40 41 42 43]]]\n"
          ]
        }
      ]
    }
  ]
}