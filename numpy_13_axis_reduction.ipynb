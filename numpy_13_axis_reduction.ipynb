{
  "nbformat": 4,
  "nbformat_minor": 0,
  "metadata": {
    "colab": {
      "provenance": [],
      "authorship_tag": "ABX9TyMe4ydH0Cn2m3UjP7HrKkH7",
      "include_colab_link": true
    },
    "kernelspec": {
      "name": "python3",
      "display_name": "Python 3"
    },
    "language_info": {
      "name": "python"
    }
  },
  "cells": [
    {
      "cell_type": "markdown",
      "metadata": {
        "id": "view-in-github",
        "colab_type": "text"
      },
      "source": [
        "<a href=\"https://colab.research.google.com/github/plus2net/numpy/blob/main/numpy_13_axis_reduction.ipynb\" target=\"_parent\"><img src=\"https://colab.research.google.com/assets/colab-badge.svg\" alt=\"Open In Colab\"/></a>"
      ]
    },
    {
      "cell_type": "markdown",
      "source": [
        "![alt text](https://www.plus2net.com/images/top2.jpg)        Read more on [Axis Reduction ](https://www.plus2net.com/python/numpy-axis-reduction.php) | [ Numpy ](https://www.plus2net.com/python/numpy.php)"
      ],
      "metadata": {
        "id": "IzacesE1Lrgq"
      }
    },
    {
      "cell_type": "code",
      "execution_count": 1,
      "metadata": {
        "id": "6fxC7yFUGXbd",
        "colab": {
          "base_uri": "https://localhost:8080/"
        },
        "outputId": "6c66926a-e152-49d4-c7ec-040f75f19453"
      },
      "outputs": [
        {
          "output_type": "stream",
          "name": "stdout",
          "text": [
            "[12 15 18]\n",
            "[ 6 15 24]\n",
            "45\n"
          ]
        }
      ],
      "source": [
        "import numpy as np\n",
        "\n",
        "X = np.array([[1, 2, 3],\n",
        "              [4, 5, 6],\n",
        "              [7, 8, 9]])   # shape (3,3)\n",
        "\n",
        "print(X.sum(axis=0))  # [12 15 18]  column sums\n",
        "print(X.sum(axis=1))  # [ 6 15 24]  row sums\n",
        "print(X.sum())        # 45          all elements"
      ]
    },
    {
      "cell_type": "code",
      "source": [
        "mu_rows = X.mean(axis=1, keepdims=True)  # shape (3,1)\n",
        "X_centered_by_row = X - mu_rows          # broadcasts to (3,3)\n",
        "\n",
        "mu_cols = X.mean(axis=0, keepdims=True)  # shape (1,3)\n",
        "X_centered_by_col = X - mu_cols"
      ],
      "metadata": {
        "id": "uUIBwWVZ8a3J"
      },
      "execution_count": 2,
      "outputs": []
    },
    {
      "cell_type": "code",
      "source": [
        "A = np.arange(12).reshape(3,4)\n",
        "\n",
        "print(A.sum(axis=0))     # column sums\n",
        "print(A.mean(axis=1))    # row means\n",
        "print(A.min(axis=0))     # column minima\n",
        "print(A.max(axis=1))     # row maxima\n",
        "print(A.std(axis=0))     # column std dev\n",
        "print(A.prod(axis=1))    # row product"
      ],
      "metadata": {
        "colab": {
          "base_uri": "https://localhost:8080/"
        },
        "id": "e-hQFdza8eOi",
        "outputId": "261d7ebd-e095-40c0-a153-ae89990aee30"
      },
      "execution_count": 3,
      "outputs": [
        {
          "output_type": "stream",
          "name": "stdout",
          "text": [
            "[12 15 18 21]\n",
            "[1.5 5.5 9.5]\n",
            "[0 1 2 3]\n",
            "[ 3  7 11]\n",
            "[3.26598632 3.26598632 3.26598632 3.26598632]\n",
            "[   0  840 7920]\n"
          ]
        }
      ]
    },
    {
      "cell_type": "code",
      "source": [
        "idx = A.argmax(axis=1)          # index of max in each row\n",
        "row_ids = np.arange(A.shape[0])\n",
        "row_max_vals = A[row_ids, idx]  # values at those indexes\n",
        "print(idx, row_max_vals)"
      ],
      "metadata": {
        "colab": {
          "base_uri": "https://localhost:8080/"
        },
        "id": "bMuFYwjg8iNa",
        "outputId": "5a1d8b1e-08a4-4d72-b156-048f3ba3e354"
      },
      "execution_count": 4,
      "outputs": [
        {
          "output_type": "stream",
          "name": "stdout",
          "text": [
            "[3 3 3] [ 3  7 11]\n"
          ]
        }
      ]
    },
    {
      "cell_type": "code",
      "source": [
        "B = (A % 2 == 0)    # even mask\n",
        "print(B.any(axis=1))   # any even per row\n",
        "print(B.all(axis=1))   # all even per row?"
      ],
      "metadata": {
        "colab": {
          "base_uri": "https://localhost:8080/"
        },
        "id": "kF6_Qifq8lW2",
        "outputId": "04095390-f961-46c0-887a-aed162439f56"
      },
      "execution_count": 5,
      "outputs": [
        {
          "output_type": "stream",
          "name": "stdout",
          "text": [
            "[ True  True  True]\n",
            "[False False False]\n"
          ]
        }
      ]
    },
    {
      "cell_type": "code",
      "source": [
        "print(A.cumsum(axis=0))  # cumulative column sums\n",
        "print(A.cumsum(axis=1))  # cumulative row sums"
      ],
      "metadata": {
        "colab": {
          "base_uri": "https://localhost:8080/"
        },
        "id": "ofdf854f8oXZ",
        "outputId": "c0cc6819-c9ed-47a6-c77e-42fc56243910"
      },
      "execution_count": 6,
      "outputs": [
        {
          "output_type": "stream",
          "name": "stdout",
          "text": [
            "[[ 0  1  2  3]\n",
            " [ 4  6  8 10]\n",
            " [12 15 18 21]]\n",
            "[[ 0  1  3  6]\n",
            " [ 4  9 15 22]\n",
            " [ 8 17 27 38]]\n"
          ]
        }
      ]
    },
    {
      "cell_type": "code",
      "source": [
        "T = np.arange(2*3*4).reshape(2,3,4)  # (depth=2, rows=3, cols=4)\n",
        "print(T.mean(axis=0).shape)  # (3,4)  mean across depth\n",
        "print(T.sum(axis=2).shape)   # (2,3)  sum across last axis"
      ],
      "metadata": {
        "colab": {
          "base_uri": "https://localhost:8080/"
        },
        "id": "Ns-iMl8c8w85",
        "outputId": "6675f9c6-b175-41f0-cad4-b2d1b84b3788"
      },
      "execution_count": 7,
      "outputs": [
        {
          "output_type": "stream",
          "name": "stdout",
          "text": [
            "(3, 4)\n",
            "(2, 3)\n"
          ]
        }
      ]
    },
    {
      "cell_type": "code",
      "source": [
        "# 1) Standardize columns (Z-score)\n",
        "X = np.random.randn(5, 3)\n",
        "mu = X.mean(axis=0, keepdims=True)\n",
        "sd = X.std(axis=0, keepdims=True)\n",
        "Z = (X - mu) / sd\n",
        "\n",
        "# 2) Find the column with max total\n",
        "col_sums = X.sum(axis=0)\n",
        "best_col = col_sums.argmax()\n",
        "\n",
        "# 3) Normalize each row to sum to 1 (avoid div-by-zero)\n",
        "row_sum = X.sum(axis=1, keepdims=True)\n",
        "row_sum[row_sum == 0] = 1\n",
        "X_norm = X / row_sum"
      ],
      "metadata": {
        "id": "U9CagiXc80NX"
      },
      "execution_count": 8,
      "outputs": []
    },
    {
      "cell_type": "code",
      "source": [
        "# a) Given M=(6,4), subtract row-wise medians using keepdims\n",
        "M = np.arange(24).reshape(6,4)\n",
        "med = np.median(M, axis=1, keepdims=True)\n",
        "print(M - med)\n",
        "\n",
        "# b) From a (3,5) array, return the index of the max per column and the values\n",
        "A = np.random.randint(0, 100, (3,5))\n",
        "idx = A.argmax(axis=0)\n",
        "vals = A[idx, np.arange(A.shape[1])]\n",
        "print(idx, vals)\n",
        "\n",
        "# c) For a (2,3,4) tensor, compute cumulative sums along the last axis\n",
        "T = np.arange(24).reshape(2,3,4)\n",
        "print(np.cumsum(T, axis=2))"
      ],
      "metadata": {
        "colab": {
          "base_uri": "https://localhost:8080/"
        },
        "id": "rjIlbXCK83ut",
        "outputId": "5aefb8bc-4c7c-4a6c-a24e-87f2f6b99518"
      },
      "execution_count": 9,
      "outputs": [
        {
          "output_type": "stream",
          "name": "stdout",
          "text": [
            "[[-1.5 -0.5  0.5  1.5]\n",
            " [-1.5 -0.5  0.5  1.5]\n",
            " [-1.5 -0.5  0.5  1.5]\n",
            " [-1.5 -0.5  0.5  1.5]\n",
            " [-1.5 -0.5  0.5  1.5]\n",
            " [-1.5 -0.5  0.5  1.5]]\n",
            "[1 2 2 0 1] [81 98 92 95 79]\n",
            "[[[ 0  1  3  6]\n",
            "  [ 4  9 15 22]\n",
            "  [ 8 17 27 38]]\n",
            "\n",
            " [[12 25 39 54]\n",
            "  [16 33 51 70]\n",
            "  [20 41 63 86]]]\n"
          ]
        }
      ]
    }
  ]
}