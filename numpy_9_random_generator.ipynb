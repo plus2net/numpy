{
  "nbformat": 4,
  "nbformat_minor": 0,
  "metadata": {
    "colab": {
      "provenance": [],
      "authorship_tag": "ABX9TyPQHKTJxw0b+p2jxriHpakv",
      "include_colab_link": true
    },
    "kernelspec": {
      "name": "python3",
      "display_name": "Python 3"
    },
    "language_info": {
      "name": "python"
    }
  },
  "cells": [
    {
      "cell_type": "markdown",
      "metadata": {
        "id": "view-in-github",
        "colab_type": "text"
      },
      "source": [
        "<a href=\"https://colab.research.google.com/github/plus2net/numpy/blob/main/numpy_9_random_generator.ipynb\" target=\"_parent\"><img src=\"https://colab.research.google.com/assets/colab-badge.svg\" alt=\"Open In Colab\"/></a>"
      ]
    },
    {
      "cell_type": "markdown",
      "source": [
        "![alt text](https://www.plus2net.com/images/top2.jpg)        Read more on [Random Generator ](https://www.plus2net.com/python/numpy-random-generator.php) | [ Numpy ](https://www.plus2net.com/python/numpy.php)"
      ],
      "metadata": {
        "id": "IzacesE1Lrgq"
      }
    },
    {
      "cell_type": "code",
      "execution_count": 1,
      "metadata": {
        "id": "6fxC7yFUGXbd",
        "colab": {
          "base_uri": "https://localhost:8080/"
        },
        "outputId": "baaea087-b94e-43cc-a180-ba24e8b873fd"
      },
      "outputs": [
        {
          "output_type": "stream",
          "name": "stdout",
          "text": [
            "[0 7 6 4 4]\n",
            "[ 0.94056472 -1.95103519 -1.30217951]\n"
          ]
        }
      ],
      "source": [
        "import numpy as np\n",
        "\n",
        "# Modern API (recommended)\n",
        "rng = np.random.default_rng(seed=42)  # PCG64 by default\n",
        "print(rng.integers(0, 10, size=5))\n",
        "print(rng.normal(0, 1, size=3))\n",
        "\n",
        "# Legacy (still works, not recommended for new code)\n",
        "# np.random.seed(42)\n",
        "# np.random.randint(0, 10, 5)"
      ]
    },
    {
      "cell_type": "code",
      "source": [
        "from numpy.random import Generator, PCG64, Philox\n",
        "\n",
        "rng_pcg = Generator(PCG64(12345))\n",
        "rng_philox = Generator(Philox(2025))\n",
        "\n",
        "print(rng_pcg.integers(10, size=4))\n",
        "print(rng_philox.uniform(size=3))"
      ],
      "metadata": {
        "colab": {
          "base_uri": "https://localhost:8080/"
        },
        "id": "cFTq_s2ZqIwf",
        "outputId": "5872566f-3cd7-4665-d66a-821d182fcc24"
      },
      "execution_count": 2,
      "outputs": [
        {
          "output_type": "stream",
          "name": "stdout",
          "text": [
            "[6 2 7 3]\n",
            "[0.06968444 0.75389778 0.45656435]\n"
          ]
        }
      ]
    },
    {
      "cell_type": "code",
      "source": [
        "from numpy.random import SeedSequence, PCG64, Generator\n",
        "\n",
        "ss = SeedSequence(2025)\n",
        "# Spawn 3 independent child sequences\n",
        "child_ss = ss.spawn(3)\n",
        "streams = [Generator(PCG64(s)) for s in child_ss]\n",
        "\n",
        "# Each stream is independent and reproducible\n",
        "for i, rng in enumerate(streams, 1):\n",
        "    print('stream', i, rng.integers(0, 100, size=3))"
      ],
      "metadata": {
        "colab": {
          "base_uri": "https://localhost:8080/"
        },
        "id": "6cyQZ8UJqMhS",
        "outputId": "13b706e5-8d21-44f0-d7ec-c51cb1574134"
      },
      "execution_count": 3,
      "outputs": [
        {
          "output_type": "stream",
          "name": "stdout",
          "text": [
            "stream 1 [87 99 72]\n",
            "stream 2 [53 71 62]\n",
            "stream 3 [ 5 72 24]\n"
          ]
        }
      ]
    },
    {
      "cell_type": "code",
      "source": [
        "# Example sketch (no actual multiprocessing shown)\n",
        "base = SeedSequence(123)\n",
        "children = base.spawn(4)\n",
        "rngs = [Generator(PCG64(s)) for s in children]\n",
        "\n",
        "# worker k uses rngs[k] exclusively"
      ],
      "metadata": {
        "id": "HepBA2gAqS1A"
      },
      "execution_count": 4,
      "outputs": []
    },
    {
      "cell_type": "code",
      "source": [
        "import numpy as np\n",
        "\n",
        "rng = np.random.default_rng(7)\n",
        "state = rng.bit_generator.state            # dict\n",
        "\n",
        "# Generate some numbers\n",
        "a = rng.standard_normal(5)\n",
        "\n",
        "# Restore exact state later\n",
        "rng2 = np.random.default_rng()\n",
        "rng2.bit_generator.state = state\n",
        "b = rng2.standard_normal(5)\n",
        "\n",
        "print(np.allclose(a, b))  # True (same continuation)"
      ],
      "metadata": {
        "colab": {
          "base_uri": "https://localhost:8080/"
        },
        "id": "a4ralfm3qV-6",
        "outputId": "4aafc8d4-86bd-4743-bc8c-2c31fe97ca13"
      },
      "execution_count": 5,
      "outputs": [
        {
          "output_type": "stream",
          "name": "stdout",
          "text": [
            "True\n"
          ]
        }
      ]
    },
    {
      "cell_type": "code",
      "source": [
        "rng = np.random.default_rng(101)\n",
        "print(rng.choice(['A','B','C'], size=5, replace=True, p=[0.2,0.5,0.3]))\n",
        "print(rng.normal(loc=10, scale=2, size=(2,3)))\n",
        "print(rng.poisson(lam=3.5, size=4))"
      ],
      "metadata": {
        "colab": {
          "base_uri": "https://localhost:8080/"
        },
        "id": "vfi-K4agqZcC",
        "outputId": "7f2f2a67-f455-47e1-a65b-f89c0fc7d3e1"
      },
      "execution_count": 6,
      "outputs": [
        {
          "output_type": "stream",
          "name": "stdout",
          "text": [
            "['C' 'B' 'C' 'B' 'B']\n",
            "[[10.73464275 13.42078858 12.12159568]\n",
            " [11.41527804 11.37549878  8.27286509]]\n",
            "[2 5 2 7]\n"
          ]
        }
      ]
    },
    {
      "cell_type": "code",
      "source": [
        "import json, numpy as np\n",
        "\n",
        "rng = np.random.default_rng(2026)\n",
        "state = rng.bit_generator.state\n",
        "with open('rng_state.json', 'w') as f:\n",
        "    json.dump(state, f)\n",
        "\n",
        "# Later:\n",
        "with open('rng_state.json') as f:\n",
        "    state2 = json.load(f)\n",
        "rng2 = np.random.default_rng()\n",
        "rng2.bit_generator.state = state2"
      ],
      "metadata": {
        "id": "SatJ72fYqc4e"
      },
      "execution_count": 8,
      "outputs": []
    },
    {
      "cell_type": "code",
      "source": [
        "# 1) Create three independent RNG streams using SeedSequence.spawn and draw 2 Poisson numbers from each.\n",
        "from numpy.random import SeedSequence, PCG64, Generator\n",
        "ss = SeedSequence(1234)\n",
        "streams = [Generator(PCG64(s)) for s in ss.spawn(3)]\n",
        "for i, r in enumerate(streams, 1):\n",
        "    print(i, r.poisson(2.5, size=2))\n",
        "\n",
        "# 2) Save RNG state after 5 draws, restore it, and confirm the next 5 draws match\n",
        "rng = np.random.default_rng(77)\n",
        "first = rng.normal(size=5)\n",
        "st = rng.bit_generator.state\n",
        "cont1 = rng.normal(size=5)\n",
        "\n",
        "rng2 = np.random.default_rng()\n",
        "rng2.bit_generator.state = st\n",
        "cont2 = rng2.normal(size=5)\n",
        "print(np.allclose(cont1, cont2))\n",
        "\n",
        "# 3) Replace legacy np.random calls with Generator equivalents in a toy script.\n",
        "\n",
        "# 4) Simulate a biased 6-sided die with probabilities and verify empirical frequencies.\n",
        "rng = np.random.default_rng(9)\n",
        "p = np.array([0.10, 0.15, 0.20, 0.25, 0.20, 0.10])\n",
        "rolls = rng.choice(np.arange(1,7), size=10_000, p=p)\n",
        "print(np.round(np.bincount(rolls, minlength=7)[1:] / rolls.size, 3))"
      ],
      "metadata": {
        "colab": {
          "base_uri": "https://localhost:8080/"
        },
        "id": "XVdChHdKqhpZ",
        "outputId": "cde2c94b-3227-4636-a20e-76a168a08f7c"
      },
      "execution_count": 9,
      "outputs": [
        {
          "output_type": "stream",
          "name": "stdout",
          "text": [
            "1 [4 1]\n",
            "2 [3 4]\n",
            "3 [0 2]\n",
            "True\n",
            "[0.098 0.153 0.196 0.257 0.2   0.096]\n"
          ]
        }
      ]
    }
  ]
}