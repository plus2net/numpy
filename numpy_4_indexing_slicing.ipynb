{
  "nbformat": 4,
  "nbformat_minor": 0,
  "metadata": {
    "colab": {
      "provenance": [],
      "authorship_tag": "ABX9TyPqWuLGfbYqrlr8q88HKIfO",
      "include_colab_link": true
    },
    "kernelspec": {
      "name": "python3",
      "display_name": "Python 3"
    },
    "language_info": {
      "name": "python"
    }
  },
  "cells": [
    {
      "cell_type": "markdown",
      "metadata": {
        "id": "view-in-github",
        "colab_type": "text"
      },
      "source": [
        "<a href=\"https://colab.research.google.com/github/plus2net/numpy/blob/main/numpy_4_indexing_slicing.ipynb\" target=\"_parent\"><img src=\"https://colab.research.google.com/assets/colab-badge.svg\" alt=\"Open In Colab\"/></a>"
      ]
    },
    {
      "cell_type": "markdown",
      "source": [
        "![alt text](https://www.plus2net.com/images/top2.jpg)        Read more on [Indexing and Slicing  ](https://www.plus2net.com/python/numpy-indexing-slicing.php) | [ Numpy ](https://www.plus2net.com/python/numpy.php)"
      ],
      "metadata": {
        "id": "IzacesE1Lrgq"
      }
    },
    {
      "cell_type": "markdown",
      "source": [],
      "metadata": {
        "id": "wykzIcF1_sKk"
      }
    },
    {
      "cell_type": "code",
      "execution_count": 1,
      "metadata": {
        "colab": {
          "base_uri": "https://localhost:8080/"
        },
        "id": "6fxC7yFUGXbd",
        "outputId": "bcb339b5-21f6-4348-eca6-da4a0a3d63fc"
      },
      "outputs": [
        {
          "output_type": "stream",
          "name": "stdout",
          "text": [
            "10\n",
            "50\n",
            "[20 30 40]\n",
            "[10 20 30]\n",
            "[40 50]\n",
            "[10 30 50]\n",
            "[50 40 30 20 10]\n"
          ]
        }
      ],
      "source": [
        "import numpy as np\n",
        "\n",
        "a = np.array([10, 20, 30, 40, 50])\n",
        "print(a[0])        # 10 (first element)\n",
        "print(a[-1])       # 50 (last element)\n",
        "\n",
        "# slice: start:stop (stop is exclusive)\n",
        "print(a[1:4])      # [20 30 40]\n",
        "print(a[:3])       # [10 20 30]\n",
        "print(a[3:])       # [40 50]\n",
        "\n",
        "# step / stride\n",
        "print(a[::2])      # [10 30 50]\n",
        "print(a[::-1])     # [50 40 30 20 10]  (reverse)"
      ]
    },
    {
      "cell_type": "code",
      "source": [
        "b = np.array([[ 1,  2,  3],\n",
        "              [10, 20, 30],\n",
        "              [40, 50, 60]])\n",
        "\n",
        "print(b[0, 1])     # 2  (row 0, col 1)\n",
        "print(b[1])        # [10 20 30] (row 1)\n",
        "print(b[:, 0])     # [ 1 10 40] (first column)\n",
        "\n",
        "# Sub-matrix: rows 0..1, cols 1..2\n",
        "print(b[0:2, 1:3]) # [[ 2  3],\n",
        "                   #  [20 30]]\n",
        "\n",
        "# Every row, every other col\n",
        "print(b[:, ::2])   # [[ 1  3],\n",
        "                   #  [10 30],\n",
        "                   #  [40 60]]"
      ],
      "metadata": {
        "colab": {
          "base_uri": "https://localhost:8080/"
        },
        "id": "cJl2g0JsC05W",
        "outputId": "7e0c16a9-aa0c-4818-dff8-2f994f27d06c"
      },
      "execution_count": 2,
      "outputs": [
        {
          "output_type": "stream",
          "name": "stdout",
          "text": [
            "2\n",
            "[10 20 30]\n",
            "[ 1 10 40]\n",
            "[[ 2  3]\n",
            " [20 30]]\n",
            "[[ 1  3]\n",
            " [10 30]\n",
            " [40 60]]\n"
          ]
        }
      ]
    },
    {
      "cell_type": "code",
      "source": [
        "c = np.arange(2*3*4).reshape(2,3,4)  # shape (depth=2, rows=3, cols=4)\n",
        "# Pick depth=1, rows 0..1, cols 2..3\n",
        "print(c[1, 0:2, 2:4])\n",
        "# Ellipsis to keep all middle dims:\n",
        "print(c[..., 0])   # first column from each 2D slice"
      ],
      "metadata": {
        "colab": {
          "base_uri": "https://localhost:8080/"
        },
        "id": "Ss_EPN_3C6Lh",
        "outputId": "b1c2bbbc-851e-4bc6-f7c4-00fe2a514ee3"
      },
      "execution_count": 3,
      "outputs": [
        {
          "output_type": "stream",
          "name": "stdout",
          "text": [
            "[[14 15]\n",
            " [18 19]]\n",
            "[[ 0  4  8]\n",
            " [12 16 20]]\n"
          ]
        }
      ]
    },
    {
      "cell_type": "code",
      "source": [
        "a = np.array([0, 1, 2, 3, 4, 5])\n",
        "s = a[1:4]     # slice -> view (shares memory)\n",
        "s[0] = 99\n",
        "print(a)       # [ 0 99  2  3  4  5]  (a changed!)\n",
        "\n",
        "# Force a copy if you need independence:\n",
        "s_copy = a[1:4].copy()\n",
        "s_copy[0] = -1\n",
        "print(a[1:4])  # original remains unchanged now"
      ],
      "metadata": {
        "colab": {
          "base_uri": "https://localhost:8080/"
        },
        "id": "i0OLkazMC8h_",
        "outputId": "89da00f1-c35e-4949-cdba-913d470ebc9c"
      },
      "execution_count": 4,
      "outputs": [
        {
          "output_type": "stream",
          "name": "stdout",
          "text": [
            "[ 0 99  2  3  4  5]\n",
            "[99  2  3]\n"
          ]
        }
      ]
    },
    {
      "cell_type": "code",
      "source": [
        "x = np.array([5, 12, 7, 22, 3, 18])\n",
        "mask = x >= 10\n",
        "print(mask)         # [False  True False  True False  True]\n",
        "print(x[mask])      # [12 22 18]\n",
        "\n",
        "# Conditional replace: values < 10 become 0\n",
        "y = np.where(x < 10, 0, x)\n",
        "print(y)            # [ 0 12  0 22  0 18]"
      ],
      "metadata": {
        "colab": {
          "base_uri": "https://localhost:8080/"
        },
        "id": "I7OFckP5DBOz",
        "outputId": "fd982ec3-806d-4296-e3fb-5d79e748f17e"
      },
      "execution_count": 6,
      "outputs": [
        {
          "output_type": "stream",
          "name": "stdout",
          "text": [
            "[False  True False  True False  True]\n",
            "[12 22 18]\n",
            "[ 0 12  0 22  0 18]\n"
          ]
        }
      ]
    },
    {
      "cell_type": "code",
      "source": [
        "# 1) Extract every 3rd element from 0..29 starting at 2\n",
        "a = np.arange(30)\n",
        "print(a[2::3])\n",
        "\n",
        "# 2) From a 6x6 array, get the 3x3 center block\n",
        "b = np.arange(36).reshape(6,6)\n",
        "print(b[1:4, 1:4])\n",
        "\n",
        "# 3) Replace all odd numbers in 0..19 with -1 using boolean mask\n",
        "c = np.arange(20)\n",
        "c[c % 2 == 1] = -1\n",
        "print(c)"
      ],
      "metadata": {
        "colab": {
          "base_uri": "https://localhost:8080/"
        },
        "id": "pyZIcdzrDWca",
        "outputId": "7eb9762b-1750-4c4e-aa3f-f12f70671a4d"
      },
      "execution_count": 8,
      "outputs": [
        {
          "output_type": "stream",
          "name": "stdout",
          "text": [
            "[ 2  5  8 11 14 17 20 23 26 29]\n",
            "[[ 7  8  9]\n",
            " [13 14 15]\n",
            " [19 20 21]]\n",
            "[ 0 -1  2 -1  4 -1  6 -1  8 -1 10 -1 12 -1 14 -1 16 -1 18 -1]\n"
          ]
        }
      ]
    }
  ]
}