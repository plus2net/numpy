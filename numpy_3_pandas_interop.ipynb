{
  "nbformat": 4,
  "nbformat_minor": 0,
  "metadata": {
    "colab": {
      "provenance": [],
      "authorship_tag": "ABX9TyPXOC2oHibafZmg4ijnWA7B",
      "include_colab_link": true
    },
    "kernelspec": {
      "name": "python3",
      "display_name": "Python 3"
    },
    "language_info": {
      "name": "python"
    }
  },
  "cells": [
    {
      "cell_type": "markdown",
      "metadata": {
        "id": "view-in-github",
        "colab_type": "text"
      },
      "source": [
        "<a href=\"https://colab.research.google.com/github/plus2net/numpy/blob/main/numpy_3_pandas_interop.ipynb\" target=\"_parent\"><img src=\"https://colab.research.google.com/assets/colab-badge.svg\" alt=\"Open In Colab\"/></a>"
      ]
    },
    {
      "cell_type": "markdown",
      "source": [
        "![alt text](https://www.plus2net.com/images/top2.jpg)        Read more on [Pandas Interoperability Guide ](https://www.plus2net.com/python/numpy-pandas-interop.php) | [ Numpy ](https://www.plus2net.com/python/numpy.php)"
      ],
      "metadata": {
        "id": "IzacesE1Lrgq"
      }
    },
    {
      "cell_type": "code",
      "execution_count": 14,
      "metadata": {
        "colab": {
          "base_uri": "https://localhost:8080/"
        },
        "id": "6fxC7yFUGXbd",
        "outputId": "f90aa4f3-0cdc-4d05-c895-ff7eb5de41af"
      },
      "outputs": [
        {
          "output_type": "stream",
          "name": "stdout",
          "text": [
            "object\n",
            "float64 (3, 2)\n"
          ]
        }
      ],
      "source": [
        "import numpy as np\n",
        "import pandas as pd\n",
        "\n",
        "df = pd.DataFrame({\n",
        "    'a': [1, 2, 3],\n",
        "    'b': [1.5, np.nan, 3.2],\n",
        "    'c': pd.Categorical(['x','y','x'])\n",
        "})\n",
        "\n",
        "A = df.to_numpy()       # may become object if columns are mixed\n",
        "print(A.dtype)\n",
        "\n",
        "# Column subset with homogeneous types -> better numeric dtype\n",
        "A_num = df[['a','b']].to_numpy(dtype='float64')\n",
        "print(A_num.dtype, A_num.shape)"
      ]
    },
    {
      "cell_type": "code",
      "source": [
        "X = np.arange(6).reshape(3,2)\n",
        "df2 = pd.DataFrame(X, columns=['col1','col2'], index=['r1','r2','r3'])\n",
        "s = pd.Series(np.array([10, 20, 30]), index=df2.index, name='bonus')\n",
        "print(df2)\n",
        "print(s)"
      ],
      "metadata": {
        "colab": {
          "base_uri": "https://localhost:8080/"
        },
        "id": "KPbZ7EJQ7c7w",
        "outputId": "7c1aa508-6221-4b8d-8373-74bc19bd529f"
      },
      "execution_count": 15,
      "outputs": [
        {
          "output_type": "stream",
          "name": "stdout",
          "text": [
            "    col1  col2\n",
            "r1     0     1\n",
            "r2     2     3\n",
            "r3     4     5\n",
            "r1    10\n",
            "r2    20\n",
            "r3    30\n",
            "Name: bonus, dtype: int64\n"
          ]
        }
      ]
    },
    {
      "cell_type": "code",
      "source": [
        "dfA = pd.DataFrame({'x':[1,2,3]}, index=['a','b','c'])\n",
        "dfB = pd.DataFrame({'x':[10,20,30]}, index=['b','c','d'])\n",
        "\n",
        "# Pandas aligns by index labels\n",
        "print((dfA + dfB))\n",
        "#   rows 'a' and 'd' become NaN due to misalignment\n",
        "\n",
        "# NumPy would add positionally if you convert to arrays:\n",
        "print(dfA.to_numpy() + dfB.to_numpy())  # shapes must match"
      ],
      "metadata": {
        "colab": {
          "base_uri": "https://localhost:8080/"
        },
        "id": "fSRqj-QH7iOE",
        "outputId": "cf407b30-d4d5-445c-d0a4-9d71edb28d23"
      },
      "execution_count": 16,
      "outputs": [
        {
          "output_type": "stream",
          "name": "stdout",
          "text": [
            "      x\n",
            "a   NaN\n",
            "b  12.0\n",
            "c  23.0\n",
            "d   NaN\n",
            "[[11]\n",
            " [22]\n",
            " [33]]\n"
          ]
        }
      ]
    },
    {
      "cell_type": "code",
      "source": [
        "df = pd.DataFrame({'i':[1, None, 3], 'f':[1.0, np.nan, 3.2]})\n",
        "print(df.dtypes)              # Int64 (nullable) and float64\n",
        "A = df.to_numpy()\n",
        "print(A.dtype)                # may be object to hold mixed types\n",
        "\n",
        "# Strategy: convert subsets with a numeric dtype\n",
        "A_float = df[['f']].to_numpy(dtype='float64')  # preserves NaN"
      ],
      "metadata": {
        "colab": {
          "base_uri": "https://localhost:8080/"
        },
        "id": "zc9YbID27kpl",
        "outputId": "7dc6f5b2-1e5a-4b14-cd3b-f356e61e6a66"
      },
      "execution_count": 17,
      "outputs": [
        {
          "output_type": "stream",
          "name": "stdout",
          "text": [
            "i    float64\n",
            "f    float64\n",
            "dtype: object\n",
            "float64\n"
          ]
        }
      ]
    },
    {
      "cell_type": "code",
      "source": [
        "df = pd.DataFrame({'x': np.arange(5), 'y': np.arange(5,10)})\n",
        "xz = (df['x'].to_numpy() - df['x'].mean()) / df['x'].std()\n",
        "df['x_z'] = xz\n",
        "print(df.head())"
      ],
      "metadata": {
        "colab": {
          "base_uri": "https://localhost:8080/"
        },
        "id": "IMoEGA3A7qHB",
        "outputId": "a559adf0-6ff5-445c-a9b6-4297d2b25d44"
      },
      "execution_count": 18,
      "outputs": [
        {
          "output_type": "stream",
          "name": "stdout",
          "text": [
            "   x  y       x_z\n",
            "0  0  5 -1.264911\n",
            "1  1  6 -0.632456\n",
            "2  2  7  0.000000\n",
            "3  3  8  0.632456\n",
            "4  4  9  1.264911\n"
          ]
        }
      ]
    },
    {
      "cell_type": "code",
      "source": [
        "X = np.random.randn(4,3)\n",
        "mu = X.mean(axis=0)\n",
        "sd = X.std(axis=0)\n",
        "\n",
        "stats = pd.DataFrame({'mean': mu, 'std': sd}, index=['c1','c2','c3'])\n",
        "print(stats)"
      ],
      "metadata": {
        "colab": {
          "base_uri": "https://localhost:8080/"
        },
        "id": "86VPr73_7rp7",
        "outputId": "4ce9c9b8-8fa9-434d-c8db-71470a469aee"
      },
      "execution_count": 19,
      "outputs": [
        {
          "output_type": "stream",
          "name": "stdout",
          "text": [
            "        mean       std\n",
            "c1  0.703543  0.585464\n",
            "c2 -0.387941  0.925212\n",
            "c3 -0.722612  0.593090\n"
          ]
        }
      ]
    },
    {
      "cell_type": "code",
      "source": [
        "dates = pd.date_range('2025-01-01', periods=3, freq='D')\n",
        "df = pd.DataFrame({'when': dates, 'val':[1,2,3]})\n",
        "print(df['when'].dtype)                   # datetime64[ns]\n",
        "dt64 = df['when'].to_numpy()              # NumPy datetime64[ns]\n",
        "print(dt64.dtype)\n",
        "\n",
        "# Categorical -> use .cat.codes if you need numeric arrays\n",
        "cats = pd.Categorical(['low','med','high'])\n",
        "arr_codes = pd.Series(cats).cat.codes.to_numpy()"
      ],
      "metadata": {
        "colab": {
          "base_uri": "https://localhost:8080/"
        },
        "id": "Gui-JEHU7veu",
        "outputId": "3dd66bf7-e4ea-42be-f165-10ffe181b23b"
      },
      "execution_count": 20,
      "outputs": [
        {
          "output_type": "stream",
          "name": "stdout",
          "text": [
            "datetime64[ns]\n",
            "datetime64[ns]\n"
          ]
        }
      ]
    },
    {
      "cell_type": "code",
      "source": [
        "# Example: compute standardized column with NumPy, join back:\n",
        "vals = df[['val']].to_numpy(dtype='float64').ravel()\n",
        "z = (vals - vals.mean()) / vals.std()\n",
        "df['z_val'] = z"
      ],
      "metadata": {
        "id": "VdHIeFMT7zL5"
      },
      "execution_count": 21,
      "outputs": []
    },
    {
      "cell_type": "code",
      "source": [
        "rec = np.array([(1, 1.5), (2, 2.5)], dtype=[('id','i4'),('score','f8')])\n",
        "df_rec = pd.DataFrame.from_records(rec)\n",
        "print(df_rec)"
      ],
      "metadata": {
        "colab": {
          "base_uri": "https://localhost:8080/"
        },
        "id": "2fNJumve72qz",
        "outputId": "1912442d-3c74-4077-b6b6-ef000e7901c1"
      },
      "execution_count": 22,
      "outputs": [
        {
          "output_type": "stream",
          "name": "stdout",
          "text": [
            "   id  score\n",
            "0   1    1.5\n",
            "1   2    2.5\n"
          ]
        }
      ]
    },
    {
      "cell_type": "code",
      "source": [
        "import numpy as np, pandas as pd\n",
        "\n",
        "# 1) Convert a mixed-type DataFrame; keep numeric block as float64\n",
        "df = pd.DataFrame({'a':[1,2,3], 'b':[1.1, np.nan, 3.3], 'c':['x','y','x']})\n",
        "num = df[['a','b']].to_numpy(dtype='float64')\n",
        "print(num.dtype, num.shape)\n",
        "\n",
        "# 2) Create two frames with different indexes; show alignment and fix with reindex\n",
        "A = pd.DataFrame({'v':[1,2,3]}, index=['r1','r2','r3'])\n",
        "B = pd.DataFrame({'v':[10,20,30]}, index=['r2','r3','r4'])\n",
        "print(A + B)                      # alignment -> NaNs\n",
        "print((A.reindex(B.index) + B))   # aligned on B's index\n",
        "\n",
        "# 3) Standardize each numeric column using NumPy and assign back\n",
        "X = df[['a','b']]\n",
        "arr = X.to_numpy(dtype='float64')\n",
        "Z = (arr - arr.mean(axis=0)) / arr.std(axis=0)\n",
        "df[['a_z','b_z']] = Z\n",
        "print(df.head())"
      ],
      "metadata": {
        "colab": {
          "base_uri": "https://localhost:8080/"
        },
        "id": "4xV7daM2762O",
        "outputId": "fd89e0f0-7f80-4bef-8fe4-1ce556cf8c4e"
      },
      "execution_count": 23,
      "outputs": [
        {
          "output_type": "stream",
          "name": "stdout",
          "text": [
            "float64 (3, 2)\n",
            "       v\n",
            "r1   NaN\n",
            "r2  12.0\n",
            "r3  23.0\n",
            "r4   NaN\n",
            "       v\n",
            "r2  12.0\n",
            "r3  23.0\n",
            "r4   NaN\n",
            "   a    b  c       a_z  b_z\n",
            "0  1  1.1  x -1.224745  NaN\n",
            "1  2  NaN  y  0.000000  NaN\n",
            "2  3  3.3  x  1.224745  NaN\n"
          ]
        }
      ]
    }
  ]
}