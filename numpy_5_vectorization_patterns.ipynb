{
  "nbformat": 4,
  "nbformat_minor": 0,
  "metadata": {
    "colab": {
      "provenance": [],
      "authorship_tag": "ABX9TyOAmkl6b3ZSqDUeSu2mOahP",
      "include_colab_link": true
    },
    "kernelspec": {
      "name": "python3",
      "display_name": "Python 3"
    },
    "language_info": {
      "name": "python"
    }
  },
  "cells": [
    {
      "cell_type": "markdown",
      "metadata": {
        "id": "view-in-github",
        "colab_type": "text"
      },
      "source": [
        "<a href=\"https://colab.research.google.com/github/plus2net/numpy/blob/main/numpy_5_vectorization_patterns.ipynb\" target=\"_parent\"><img src=\"https://colab.research.google.com/assets/colab-badge.svg\" alt=\"Open In Colab\"/></a>"
      ]
    },
    {
      "cell_type": "markdown",
      "source": [
        "![alt text](https://www.plus2net.com/images/top2.jpg)        Read more on [Vectorization and Patterns  ](https://www.plus2net.com/python/numpy-vectorization-patterns.php) | [ Numpy ](https://www.plus2net.com/python/numpy.php)"
      ],
      "metadata": {
        "id": "IzacesE1Lrgq"
      }
    },
    {
      "cell_type": "code",
      "execution_count": null,
      "metadata": {
        "id": "6fxC7yFUGXbd"
      },
      "outputs": [],
      "source": [
        "import numpy as np\n",
        "\n",
        "N = 1_000_000\n",
        "x = np.random.rand(N)\n",
        "\n",
        "# Python loop\n",
        "def loop_square(x):\n",
        "    out = np.empty_like(x)\n",
        "    for i, v in enumerate(x):\n",
        "        out[i] = v*v\n",
        "    return out\n",
        "\n",
        "# Vectorized with ufunc\n",
        "vec = x * x           # or np.square(x)\n",
        "\n",
        "# %timeit loop_square(x)\n",
        "# %timeit x*x"
      ]
    },
    {
      "cell_type": "code",
      "source": [
        "x = np.arange(10)\n",
        "\n",
        "# Loop\n",
        "out_loop = np.empty_like(x)\n",
        "for i, v in enumerate(x):\n",
        "    out_loop[i] = 0 if v % 2 else v\n",
        "\n",
        "# Vectorized\n",
        "out_vec = np.where(x % 2 == 1, 0, x)"
      ],
      "metadata": {
        "id": "-rMHSnmRJ0Pz"
      },
      "execution_count": null,
      "outputs": []
    },
    {
      "cell_type": "code",
      "source": [
        "X = np.arange(12, dtype=float).reshape(3,4)\n",
        "col_means = X.mean(axis=0)        # (4,)\n",
        "Xz = (X - col_means)               # broadcast subtract\n",
        "\n",
        "scales = np.array([1.0, 0.5, 2.0, 1.5])\n",
        "Xs = X * scales                    # column-wise scaling"
      ],
      "metadata": {
        "id": "KTAgnY98J48f"
      },
      "execution_count": null,
      "outputs": []
    },
    {
      "cell_type": "code",
      "source": [
        "M = np.random.randint(0, 100, (1000, 1000))\n",
        "\n",
        "# Loop sum by column (slow)\n",
        "col_sum_loop = np.zeros(M.shape[1], dtype=int)\n",
        "for j in range(M.shape[1]):\n",
        "    s = 0\n",
        "    for i in range(M.shape[0]):\n",
        "        s += M[i, j]\n",
        "    col_sum_loop[j] = s\n",
        "\n",
        "# Vectorized\n",
        "col_sum_vec = M.sum(axis=0)\n",
        "col_mean_vec = M.mean(axis=0)\n",
        "col_std_vec = M.std(axis=0)"
      ],
      "metadata": {
        "id": "uHwA1a5jJ8pV"
      },
      "execution_count": null,
      "outputs": []
    },
    {
      "cell_type": "code",
      "source": [
        "N = 1_000_0\n",
        "# Bad: repeatedly grows Python list\n",
        "lst = []\n",
        "for i in range(N):\n",
        "    lst.append(i*i)\n",
        "arr_bad = np.array(lst)\n",
        "\n",
        "# Better: preallocate and fill\n",
        "arr = np.empty(N, dtype=np.int64)\n",
        "for i in range(N):\n",
        "    arr[i] = i*i\n",
        "\n",
        "# Best: vectorize completely\n",
        "arr_vec = np.arange(N, dtype=np.int64)**2"
      ],
      "metadata": {
        "id": "xuZzjYgcKANw"
      },
      "execution_count": null,
      "outputs": []
    },
    {
      "cell_type": "code",
      "source": [
        "A = np.array([[0,0],[1,1],[2,2]])     # (3,2)\n",
        "B = np.array([[0,1],[1,2]])           # (2,2)\n",
        "\n",
        "diff = A[:, None, :] - B[None, :, :]  # (3,1,2) - (1,2,2) -> (3,2,2)\n",
        "D = np.sqrt((diff**2).sum(axis=-1))   # (3,2)"
      ],
      "metadata": {
        "id": "cfB_if9wKEU6"
      },
      "execution_count": null,
      "outputs": []
    },
    {
      "cell_type": "code",
      "source": [
        "from numpy.lib.stride_tricks import as_strided\n",
        "\n",
        "x = np.arange(10)\n",
        "w = 4\n",
        "shape = (x.size - w + 1, w)\n",
        "strides = (x.strides[0], x.strides[0])\n",
        "windows = as_strided(x, shape=shape, strides=strides)\n",
        "moving_sum = windows.sum(axis=1)"
      ],
      "metadata": {
        "id": "_O_kpm73KIae"
      },
      "execution_count": null,
      "outputs": []
    },
    {
      "cell_type": "code",
      "source": [
        "X = np.arange(12).reshape(3,4)\n",
        "w = np.arange(4)\n",
        "\n",
        "# Dot using broadcasting sum\n",
        "y1 = (X * w).sum(axis=1)\n",
        "\n",
        "# Equivalent with einsum (often clearer)\n",
        "y2 = np.einsum('ij,j->i', X, w)"
      ],
      "metadata": {
        "id": "nyLKAQWJKMrD"
      },
      "execution_count": null,
      "outputs": []
    },
    {
      "cell_type": "code",
      "source": [
        "import timeit, numpy as np\n",
        "\n",
        "setup = \"\"\"import numpy as np\n",
        "x = np.random.rand(1_000_00)\n",
        "def loop_square(x):\n",
        "    out = np.empty_like(x)\n",
        "    for i, v in enumerate(x):\n",
        "        out[i] = v*v\n",
        "    return out\n",
        "\"\"\"\n",
        "\n",
        "t_loop = timeit.timeit('loop_square(x)', setup=setup, number=10)\n",
        "t_vec  = timeit.timeit('x*x', setup=setup, number=10)\n",
        "print('loop:', t_loop, 'vectorized:', t_vec)"
      ],
      "metadata": {
        "colab": {
          "base_uri": "https://localhost:8080/"
        },
        "id": "YWiuNAQYLAbM",
        "outputId": "73bfb4eb-c9a2-492d-a605-33c89838ede1"
      },
      "execution_count": null,
      "outputs": [
        {
          "output_type": "stream",
          "name": "stdout",
          "text": [
            "loop: 0.2294848829999978 vectorized: 0.0009036110000124609\n"
          ]
        }
      ]
    },
    {
      "cell_type": "code",
      "source": [
        "# 1) Replace negatives with 0 using a vectorized approach\n",
        "x = np.array([3, -1, 5, -2, 7])\n",
        "print(np.where(x < 0, 0, x))\n",
        "\n",
        "# 2) Standardize columns of a (100, 3) array (z-score)\n",
        "X = np.random.randn(100, 3)\n",
        "Xz = (X - X.mean(axis=0)) / X.std(axis=0)\n",
        "\n",
        "# 3) Compute pairwise L2 distances between (n,2) and (m,2) sets without loops\n",
        "\n",
        "# 4) Using timeit, compare Python loop sum of squares vs (x**2).sum()"
      ],
      "metadata": {
        "colab": {
          "base_uri": "https://localhost:8080/"
        },
        "id": "gG6tkuAWLVnQ",
        "outputId": "5770142d-3f66-4659-b214-f11021ed5efb"
      },
      "execution_count": null,
      "outputs": [
        {
          "output_type": "stream",
          "name": "stdout",
          "text": [
            "[3 0 5 0 7]\n"
          ]
        }
      ]
    }
  ]
}