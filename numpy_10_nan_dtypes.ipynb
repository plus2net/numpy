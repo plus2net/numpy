{
  "nbformat": 4,
  "nbformat_minor": 0,
  "metadata": {
    "colab": {
      "provenance": [],
      "authorship_tag": "ABX9TyNKoFE0YnHOacgV6Y0pNHLP",
      "include_colab_link": true
    },
    "kernelspec": {
      "name": "python3",
      "display_name": "Python 3"
    },
    "language_info": {
      "name": "python"
    }
  },
  "cells": [
    {
      "cell_type": "markdown",
      "metadata": {
        "id": "view-in-github",
        "colab_type": "text"
      },
      "source": [
        "<a href=\"https://colab.research.google.com/github/plus2net/numpy/blob/main/numpy_10_nan_dtypes.ipynb\" target=\"_parent\"><img src=\"https://colab.research.google.com/assets/colab-badge.svg\" alt=\"Open In Colab\"/></a>"
      ]
    },
    {
      "cell_type": "markdown",
      "source": [
        "![alt text](https://www.plus2net.com/images/top2.jpg)        Read more on [Nan and dtypes ](https://www.plus2net.com/python/numpy-nan-dtypes.php) | [ Numpy ](https://www.plus2net.com/python/numpy.php)"
      ],
      "metadata": {
        "id": "IzacesE1Lrgq"
      }
    },
    {
      "cell_type": "code",
      "execution_count": 1,
      "metadata": {
        "id": "6fxC7yFUGXbd",
        "colab": {
          "base_uri": "https://localhost:8080/"
        },
        "outputId": "4c728083-457e-4db2-97d3-28205dca32cd"
      },
      "outputs": [
        {
          "output_type": "stream",
          "name": "stdout",
          "text": [
            "[False  True False False False]\n",
            "[ True False False False  True]\n"
          ]
        }
      ],
      "source": [
        "import numpy as np\n",
        "\n",
        "x = np.array([1.0, np.nan, np.inf, -np.inf, 5.0])\n",
        "print(np.isnan(x))    # [False  True False False False]\n",
        "print(np.isfinite(x)) # [ True False False False  True]"
      ]
    },
    {
      "cell_type": "code",
      "source": [
        "arr = np.array([1.0, np.nan, 3.0, 4.0])\n",
        "print(np.nanmean(arr))   # 2.666...\n",
        "print(np.nanmedian(arr)) # 3.0\n",
        "print(np.nanstd(arr))    # ignores NaNs"
      ],
      "metadata": {
        "colab": {
          "base_uri": "https://localhost:8080/"
        },
        "id": "URRv2KVrstbh",
        "outputId": "75a1370a-1728-44bc-b902-8aafa04d2ceb"
      },
      "execution_count": 2,
      "outputs": [
        {
          "output_type": "stream",
          "name": "stdout",
          "text": [
            "2.6666666666666665\n",
            "3.0\n",
            "1.247219128924647\n"
          ]
        }
      ]
    },
    {
      "cell_type": "code",
      "source": [
        "A = np.array([[1.,  np.nan, 3.],\n",
        "              [4.,  5.,     np.nan],\n",
        "              [np.nan, 7.,  9.]])\n",
        "\n",
        "# Fill with column means\n",
        "col_means = np.nanmean(A, axis=0)\n",
        "inds = np.where(np.isnan(A))\n",
        "A[inds] = np.take(col_means, inds[1])\n",
        "\n",
        "# Drop rows with any NaN\n",
        "B = np.array([[1.,2.],[np.nan,3.],[4.,np.nan],[5.,6.]])\n",
        "mask_rows_no_nan = np.all(np.isfinite(B), axis=1)\n",
        "clean = B[mask_rows_no_nan]"
      ],
      "metadata": {
        "id": "_36afkVYsxb7"
      },
      "execution_count": 3,
      "outputs": []
    },
    {
      "cell_type": "code",
      "source": [
        "# Integers can't store NaN; cast to float first:\n",
        "z = np.array([1, 2, 3])\n",
        "zf = z.astype('float64')\n",
        "zf[1] = np.nan\n",
        "\n",
        "# Downcasting can lose precision\n",
        "f64 = np.array([1.123456789], dtype=np.float64)\n",
        "f32 = f64.astype(np.float32)\n",
        "print(f32)  # rounded\n",
        "\n",
        "# Safe casting check (raises on unsafe)\n",
        "try:\n",
        "    np.asarray([1.2, 3.4]).astype(np.int64, casting='safe')\n",
        "except TypeError as e:\n",
        "    print('Safe cast blocked:', e)"
      ],
      "metadata": {
        "colab": {
          "base_uri": "https://localhost:8080/"
        },
        "id": "UXT7sSf1s1Dm",
        "outputId": "2f5c951f-055f-4d3c-eeb9-ba06f5067652"
      },
      "execution_count": 5,
      "outputs": [
        {
          "output_type": "stream",
          "name": "stdout",
          "text": [
            "[1.1234568]\n",
            "Safe cast blocked: Cannot cast array data from dtype('float64') to dtype('int64') according to the rule 'safe'\n"
          ]
        }
      ]
    },
    {
      "cell_type": "code",
      "source": [
        "a = np.array([1, 2, 3], dtype=np.int32)\n",
        "b = np.array([0.5, 1.5, np.nan], dtype=np.float32)\n",
        "c = a + b\n",
        "print(c.dtype)    # float32 or float64 depending on platform/rules"
      ],
      "metadata": {
        "colab": {
          "base_uri": "https://localhost:8080/"
        },
        "id": "bRZ4oyRFtAmX",
        "outputId": "15fdbb0b-fd99-43ba-dcbf-96ef4769079a"
      },
      "execution_count": 6,
      "outputs": [
        {
          "output_type": "stream",
          "name": "stdout",
          "text": [
            "float64\n"
          ]
        }
      ]
    },
    {
      "cell_type": "code",
      "source": [
        "data = np.array([1, -999, 3, -999, 5])   # -999 means missing\n",
        "m = np.ma.masked_equal(data, -999)\n",
        "print(m.mean())                           # masked value ignored\n",
        "print(m.mask)                             # True where missing"
      ],
      "metadata": {
        "colab": {
          "base_uri": "https://localhost:8080/"
        },
        "id": "CuDbFSOZtEBe",
        "outputId": "f8db3590-7ba4-4e24-becf-b457bbd87123"
      },
      "execution_count": 7,
      "outputs": [
        {
          "output_type": "stream",
          "name": "stdout",
          "text": [
            "3.0\n",
            "[False  True False  True False]\n"
          ]
        }
      ]
    },
    {
      "cell_type": "code",
      "source": [
        "np.seterr(divide='warn', invalid='warn', over='ignore', under='ignore')\n",
        "\n",
        "with np.errstate(divide='ignore', invalid='raise'):\n",
        "    y = np.array([1.0, 0.0, np.nan])\n",
        "    try:\n",
        "        out = 1.0 / y\n",
        "    except FloatingPointError:\n",
        "        print('Invalid operation trapped')"
      ],
      "metadata": {
        "id": "Ulw5SOjptJh4"
      },
      "execution_count": 9,
      "outputs": []
    },
    {
      "cell_type": "code",
      "source": [
        "from io import StringIO\n",
        "\n",
        "csv = StringIO(\"\"\"a,b,c\n",
        "1,,3\n",
        "4,5,\n",
        ",7,9\n",
        "\"\"\")\n",
        "arr = np.genfromtxt(csv, delimiter=',', skip_header=1)\n",
        "print(arr)                 # NaNs where empty\n",
        "print(arr.dtype)           # float64 (due to NaNs)"
      ],
      "metadata": {
        "colab": {
          "base_uri": "https://localhost:8080/"
        },
        "id": "vNH82m_btNbu",
        "outputId": "bcb19d7c-ca7b-41f5-9257-6f081ba4ef33"
      },
      "execution_count": 11,
      "outputs": [
        {
          "output_type": "stream",
          "name": "stdout",
          "text": [
            "[[ 1. nan  3.]\n",
            " [ 4.  5. nan]\n",
            " [nan  7.  9.]]\n",
            "float64\n"
          ]
        }
      ]
    },
    {
      "cell_type": "code",
      "source": [
        "# 1) Replace NaNs column-wise using medians\n",
        "X = np.array([[1., np.nan, 3.],\n",
        "              [np.nan, 5., 6.],\n",
        "              [7., 8., np.nan]])\n",
        "med = np.nanmedian(X, axis=0)\n",
        "idx = np.where(np.isnan(X))\n",
        "X[idx] = np.take(med, idx[1])\n",
        "print(X)\n",
        "\n",
        "# 2) Convert an int array to float, inject NaNs at odd indices\n",
        "a = np.arange(10, dtype=np.int32)\n",
        "b = a.astype(np.float64)\n",
        "b[1::2] = np.nan\n",
        "print(np.isnan(b).sum())\n",
        "\n",
        "# 3) Use masked arrays to compute mean of integer data with -1 as missing\n",
        "y = np.array([5, -1, 7, 9, -1, 2])\n",
        "ym = np.ma.masked_equal(y, -1)\n",
        "print(float(ym.mean()))\n",
        "\n",
        "# 4) Demonstrate unsafe vs safe casting\n",
        "f = np.array([1.9, 2.1])\n",
        "print(f.astype(np.int64, casting='unsafe'))   # truncation\n",
        "try:\n",
        "    print(f.astype(np.int64, casting='safe')) # should raise\n",
        "except TypeError as e:\n",
        "    print('Safe cast blocked:', e)"
      ],
      "metadata": {
        "colab": {
          "base_uri": "https://localhost:8080/"
        },
        "id": "f8Pt1DUNtbJ7",
        "outputId": "39e887d1-f0d7-4000-e2c7-7ede4b559a56"
      },
      "execution_count": 12,
      "outputs": [
        {
          "output_type": "stream",
          "name": "stdout",
          "text": [
            "[[1.  6.5 3. ]\n",
            " [4.  5.  6. ]\n",
            " [7.  8.  4.5]]\n",
            "5\n",
            "5.75\n",
            "[1 2]\n",
            "Safe cast blocked: Cannot cast array data from dtype('float64') to dtype('int64') according to the rule 'safe'\n"
          ]
        }
      ]
    }
  ]
}