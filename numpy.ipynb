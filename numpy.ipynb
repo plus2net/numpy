{
  "nbformat": 4,
  "nbformat_minor": 0,
  "metadata": {
    "colab": {
      "provenance": [],
      "authorship_tag": "ABX9TyMMIxGBhs8h6ZZ0dxLFSqEf",
      "include_colab_link": true
    },
    "kernelspec": {
      "name": "python3",
      "display_name": "Python 3"
    },
    "language_info": {
      "name": "python"
    }
  },
  "cells": [
    {
      "cell_type": "markdown",
      "metadata": {
        "id": "view-in-github",
        "colab_type": "text"
      },
      "source": [
        "<a href=\"https://colab.research.google.com/github/plus2net/numpy/blob/main/numpy.ipynb\" target=\"_parent\"><img src=\"https://colab.research.google.com/assets/colab-badge.svg\" alt=\"Open In Colab\"/></a>"
      ]
    },
    {
      "cell_type": "markdown",
      "source": [
        "![alt text](https://www.plus2net.com/images/top2.jpg)        Read more on [Numpy ](https://www.plus2net.com/python/numpy.php) | [ Numpy ](https://www.plus2net.com/python/numpy.php)"
      ],
      "metadata": {
        "id": "IzacesE1Lrgq"
      }
    },
    {
      "cell_type": "code",
      "execution_count": 11,
      "metadata": {
        "colab": {
          "base_uri": "https://localhost:8080/"
        },
        "id": "6fxC7yFUGXbd",
        "outputId": "f0aa0da6-9ec9-42b5-aff4-f195dd06361c",
        "collapsed": true
      },
      "outputs": [
        {
          "output_type": "stream",
          "name": "stdout",
          "text": [
            "[10 20 30]\n"
          ]
        }
      ],
      "source": [
        "import numpy as np\n",
        "print(np.array([1, 2, 3]) * 10) # Output [10 20 30]"
      ]
    },
    {
      "cell_type": "code",
      "source": [
        "my_list=[1,2,3,4]\n",
        "my_ar=np.array(my_list)\n",
        "print(my_ar)"
      ],
      "metadata": {
        "colab": {
          "base_uri": "https://localhost:8080/"
        },
        "id": "77hgqyaBUGzW",
        "outputId": "8d6b690e-99d8-4ed7-ccb8-a779bf830a90"
      },
      "execution_count": 12,
      "outputs": [
        {
          "output_type": "stream",
          "name": "stdout",
          "text": [
            "[1 2 3 4]\n"
          ]
        }
      ]
    },
    {
      "cell_type": "markdown",
      "source": [
        "Create one 1D array from a list."
      ],
      "metadata": {
        "id": "PPEFb5dDRLIZ"
      }
    },
    {
      "cell_type": "code",
      "source": [
        "my_list=[[1,2,3,4],[5,6,7,8]]\n",
        "my_ar=np.array(my_list)\n",
        "print(my_ar)"
      ],
      "metadata": {
        "colab": {
          "base_uri": "https://localhost:8080/"
        },
        "id": "JHrcix_hUR0u",
        "outputId": "bfe1f36d-d63b-4f28-cea8-b90ddf6b1664"
      },
      "execution_count": 13,
      "outputs": [
        {
          "output_type": "stream",
          "name": "stdout",
          "text": [
            "[[1 2 3 4]\n",
            " [5 6 7 8]]\n"
          ]
        }
      ]
    },
    {
      "cell_type": "code",
      "source": [
        "my_ar=np.arange(10)\n",
        "print(my_ar)"
      ],
      "metadata": {
        "colab": {
          "base_uri": "https://localhost:8080/"
        },
        "id": "1w0TE-iuUk4-",
        "outputId": "8b79d987-e875-4bab-a8af-d1170a80f5c1"
      },
      "execution_count": 14,
      "outputs": [
        {
          "output_type": "stream",
          "name": "stdout",
          "text": [
            "[0 1 2 3 4 5 6 7 8 9]\n"
          ]
        }
      ]
    },
    {
      "cell_type": "code",
      "source": [
        "my_ar=np.arange(5,45,5)\n",
        "print(my_ar)"
      ],
      "metadata": {
        "colab": {
          "base_uri": "https://localhost:8080/"
        },
        "id": "CPxOhD39Ut1V",
        "outputId": "6e9f1667-8f84-4475-adbc-adb324323961"
      },
      "execution_count": 16,
      "outputs": [
        {
          "output_type": "stream",
          "name": "stdout",
          "text": [
            "[ 5 10 15 20 25 30 35 40]\n"
          ]
        }
      ]
    },
    {
      "cell_type": "code",
      "source": [
        "my_ar=np.arange(12)\n",
        "print(my_ar)\n",
        "my_ar2=my_ar.reshape(3,4)\n",
        "print(my_ar2)"
      ],
      "metadata": {
        "colab": {
          "base_uri": "https://localhost:8080/"
        },
        "id": "w8g24OimVfms",
        "outputId": "bf9d3171-9f60-49f4-a7f8-451853761848"
      },
      "execution_count": 19,
      "outputs": [
        {
          "output_type": "stream",
          "name": "stdout",
          "text": [
            "[ 0  1  2  3  4  5  6  7  8  9 10 11]\n",
            "[[ 0  1  2  3]\n",
            " [ 4  5  6  7]\n",
            " [ 8  9 10 11]]\n"
          ]
        }
      ]
    },
    {
      "cell_type": "code",
      "source": [
        "print(my_ar2.shape)\n",
        "print(my_ar2.sum())\n",
        "print(my_ar2.sum(axis=0))\n",
        "print(my_ar2.sum(axis=1))\n"
      ],
      "metadata": {
        "colab": {
          "base_uri": "https://localhost:8080/"
        },
        "id": "gP6mW_LGWH7V",
        "outputId": "44da7781-15e2-44b2-f0c8-875fea4473e9"
      },
      "execution_count": 24,
      "outputs": [
        {
          "output_type": "stream",
          "name": "stdout",
          "text": [
            "(3, 4)\n",
            "66\n",
            "[12 15 18 21]\n",
            "[ 6 22 38]\n"
          ]
        }
      ]
    },
    {
      "cell_type": "code",
      "source": [
        "print(my_ar2.mean())\n",
        "print(my_ar2.mean(axis=0))\n",
        "print(my_ar2.mean(axis=1))"
      ],
      "metadata": {
        "colab": {
          "base_uri": "https://localhost:8080/"
        },
        "id": "xrbVVkziWiGM",
        "outputId": "67984a4a-bf82-44a1-9408-24cf8367f2cd"
      },
      "execution_count": 26,
      "outputs": [
        {
          "output_type": "stream",
          "name": "stdout",
          "text": [
            "5.5\n",
            "[4. 5. 6. 7.]\n",
            "[1.5 5.5 9.5]\n"
          ]
        }
      ]
    }
  ]
}