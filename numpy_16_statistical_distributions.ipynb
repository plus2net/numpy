{
  "nbformat": 4,
  "nbformat_minor": 0,
  "metadata": {
    "colab": {
      "provenance": [],
      "authorship_tag": "ABX9TyMe0ZEkbspBKj6+XBrfi/w4",
      "include_colab_link": true
    },
    "kernelspec": {
      "name": "python3",
      "display_name": "Python 3"
    },
    "language_info": {
      "name": "python"
    }
  },
  "cells": [
    {
      "cell_type": "markdown",
      "metadata": {
        "id": "view-in-github",
        "colab_type": "text"
      },
      "source": [
        "<a href=\"https://colab.research.google.com/github/plus2net/numpy/blob/main/numpy_16_statistical_distributions.ipynb\" target=\"_parent\"><img src=\"https://colab.research.google.com/assets/colab-badge.svg\" alt=\"Open In Colab\"/></a>"
      ]
    },
    {
      "cell_type": "markdown",
      "source": [
        "![alt text](https://www.plus2net.com/images/top2.jpg)        Read more on [Statistical Distributions  ](https://www.plus2net.com/python/numpy-statistical-distributions.php) | [ Numpy ](https://www.plus2net.com/python/numpy.php)"
      ],
      "metadata": {
        "id": "IzacesE1Lrgq"
      }
    },
    {
      "cell_type": "code",
      "execution_count": 1,
      "metadata": {
        "id": "6fxC7yFUGXbd"
      },
      "outputs": [],
      "source": [
        "import numpy as np\n",
        "rng = np.random.default_rng(42)   # PCG64 by default; reproducible results"
      ]
    },
    {
      "cell_type": "code",
      "source": [
        "# 1000 users, each sees 10 trials (e.g., 10 offers), p=0.2 success\n",
        "samples = rng.binomial(n=10, p=0.2, size=1000)\n",
        "print(samples[:10], samples.mean(), samples.var())\n",
        "\n",
        "# Single-trial Bernoulli is binomial with n=1\n",
        "bernoulli = rng.binomial(1, 0.3, size=20)"
      ],
      "metadata": {
        "colab": {
          "base_uri": "https://localhost:8080/"
        },
        "id": "joUICME5f3Hl",
        "outputId": "8286a354-e9a0-458b-afc4-cc1781c8214a"
      },
      "execution_count": 2,
      "outputs": [
        {
          "output_type": "stream",
          "name": "stdout",
          "text": [
            "[3 2 3 3 0 5 3 3 1 2] 1.994 1.5759640000000001\n"
          ]
        }
      ]
    },
    {
      "cell_type": "code",
      "source": [
        "# 100 trials split across 3 classes with probs 0.2, 0.5, 0.3\n",
        "counts = rng.multinomial(n=100, pvals=[0.2, 0.5, 0.3], size=5)\n",
        "print(counts)\n",
        "print(counts.sum(axis=1))  # each row sums to 100\n",
        "\n",
        "# One-hot samples: draw 1 trial at a time and stack\n",
        "onehots = rng.multinomial(1, [0.7, 0.2, 0.1], size=10)"
      ],
      "metadata": {
        "colab": {
          "base_uri": "https://localhost:8080/"
        },
        "id": "KdB983tIf6go",
        "outputId": "3515d67f-b061-47cc-acc2-aa8648e942d3"
      },
      "execution_count": 3,
      "outputs": [
        {
          "output_type": "stream",
          "name": "stdout",
          "text": [
            "[[25 44 31]\n",
            " [30 43 27]\n",
            " [22 51 27]\n",
            " [27 47 26]\n",
            " [22 50 28]]\n",
            "[100 100 100 100 100]\n"
          ]
        }
      ]
    },
    {
      "cell_type": "code",
      "source": [
        "# Average 3.5 events per interval; sample 1000 intervals\n",
        "counts = rng.poisson(lam=3.5, size=1000)\n",
        "print(counts.mean(), counts.var())  # mean≈var≈λ for Poisson"
      ],
      "metadata": {
        "colab": {
          "base_uri": "https://localhost:8080/"
        },
        "id": "OZnQetjIf_W7",
        "outputId": "4a167443-8d4d-4655-cc9f-7c0593a76713"
      },
      "execution_count": 4,
      "outputs": [
        {
          "output_type": "stream",
          "name": "stdout",
          "text": [
            "3.439 3.4922789999999995\n"
          ]
        }
      ]
    },
    {
      "cell_type": "code",
      "source": [
        "# Service times with shape=2.0 and scale=1.5\n",
        "times = rng.gamma(shape=2.0, scale=1.5, size=10000)\n",
        "print(times.mean(), times.std())"
      ],
      "metadata": {
        "colab": {
          "base_uri": "https://localhost:8080/"
        },
        "id": "LouWFGNngCu6",
        "outputId": "7be1950c-59eb-4afd-b12b-19ae44bf6eb1"
      },
      "execution_count": 5,
      "outputs": [
        {
          "output_type": "stream",
          "name": "stdout",
          "text": [
            "3.0201416361551017 2.13350007098916\n"
          ]
        }
      ]
    },
    {
      "cell_type": "code",
      "source": [
        "# 100 experiments × 30 trials each from binomial\n",
        "exp_binom = rng.binomial(n=30, p=0.4, size=(100,))\n",
        "\n",
        "# 100 experiments × 7 days (Poisson daily counts)\n",
        "weekly = rng.poisson(lam=2.2, size=(100,7))\n",
        "print(weekly.shape)"
      ],
      "metadata": {
        "colab": {
          "base_uri": "https://localhost:8080/"
        },
        "id": "FDPkmgcfgF_x",
        "outputId": "6c2f5749-e975-495a-944f-a4b632283328"
      },
      "execution_count": 6,
      "outputs": [
        {
          "output_type": "stream",
          "name": "stdout",
          "text": [
            "(100, 7)\n"
          ]
        }
      ]
    },
    {
      "cell_type": "code",
      "source": [
        "# Poisson: E[X]=Var[X]=λ\n",
        "x = rng.poisson(4.0, size=5000)\n",
        "print(x.mean(), x.var())\n",
        "\n",
        "# Gamma(k, θ): mean = kθ, var = kθ^2\n",
        "g = rng.gamma(2.5, 1.2, size=5000)\n",
        "print(g.mean(), g.var())"
      ],
      "metadata": {
        "colab": {
          "base_uri": "https://localhost:8080/"
        },
        "id": "ntSRqpZPgKXH",
        "outputId": "2216b4a5-5d4f-446e-fb67-0eeeb5d47545"
      },
      "execution_count": 7,
      "outputs": [
        {
          "output_type": "stream",
          "name": "stdout",
          "text": [
            "4.0058 4.07616636\n",
            "2.959624320069369 3.59543830516093\n"
          ]
        }
      ]
    },
    {
      "cell_type": "code",
      "source": [
        "# Example: simulate extra demand noise around observed daily means\n",
        "observed = np.array([10, 12, 9, 14, 11, 13, 8])   # 7 days\n",
        "lam = observed.mean()                              # crude baseline\n",
        "scenarios = rng.poisson(lam=lam, size=(1000, 7))   # 1000 weekly scenarios\n",
        "p95 = np.percentile(scenarios.sum(axis=1), 95)\n",
        "print('95th percentile of weekly demand:', p95)"
      ],
      "metadata": {
        "colab": {
          "base_uri": "https://localhost:8080/"
        },
        "id": "rYuvLvX5gNR0",
        "outputId": "8233b345-05bb-4c45-c7f8-71ed264310db"
      },
      "execution_count": 8,
      "outputs": [
        {
          "output_type": "stream",
          "name": "stdout",
          "text": [
            "95th percentile of weekly demand: 92.0\n"
          ]
        }
      ]
    },
    {
      "cell_type": "code",
      "source": [
        "import numpy as np\n",
        "rng = np.random.default_rng(123)\n",
        "\n",
        "# 1) Binomial power check: simulate 10k experiments of 100 trials with p=0.55\n",
        "exp = rng.binomial(100, 0.55, size=10_000)\n",
        "print('Mean successes:', exp.mean())\n",
        "\n",
        "# 2) Multinomial sanity: verify each row sums to n\n",
        "M = rng.multinomial(50, [0.1, 0.2, 0.7], size=5)\n",
        "print(M, M.sum(axis=1))\n",
        "\n",
        "# 3) Poisson queueing: probability daily calls exceed 8 when λ=5\n",
        "calls = rng.poisson(5, size=100_000)\n",
        "print('P(X>8) ~', (calls > 8).mean())\n",
        "\n",
        "# 4) Gamma fit intuition: empirical mean/var vs kθ and kθ^2\n",
        "g = rng.gamma(3.0, 2.0, size=50_000)\n",
        "print(g.mean(), g.var())"
      ],
      "metadata": {
        "colab": {
          "base_uri": "https://localhost:8080/"
        },
        "id": "dTdZbeCZgQT-",
        "outputId": "973fa0fd-9d88-467b-8e5a-4015701e2d26"
      },
      "execution_count": 9,
      "outputs": [
        {
          "output_type": "stream",
          "name": "stdout",
          "text": [
            "Mean successes: 54.9947\n",
            "[[ 5 12 33]\n",
            " [ 3  8 39]\n",
            " [ 3 11 36]\n",
            " [ 5 11 34]\n",
            " [ 5  5 40]] [50 50 50 50 50]\n",
            "P(X>8) ~ 0.06871\n",
            "6.0294157567571975 12.260582876079257\n"
          ]
        }
      ]
    }
  ]
}