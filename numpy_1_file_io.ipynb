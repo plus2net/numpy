{
  "nbformat": 4,
  "nbformat_minor": 0,
  "metadata": {
    "colab": {
      "provenance": [],
      "authorship_tag": "ABX9TyMw0bs3pDog17uRLvF5FMeM",
      "include_colab_link": true
    },
    "kernelspec": {
      "name": "python3",
      "display_name": "Python 3"
    },
    "language_info": {
      "name": "python"
    }
  },
  "cells": [
    {
      "cell_type": "markdown",
      "metadata": {
        "id": "view-in-github",
        "colab_type": "text"
      },
      "source": [
        "<a href=\"https://colab.research.google.com/github/plus2net/numpy/blob/main/numpy_1_file_io.ipynb\" target=\"_parent\"><img src=\"https://colab.research.google.com/assets/colab-badge.svg\" alt=\"Open In Colab\"/></a>"
      ]
    },
    {
      "cell_type": "markdown",
      "source": [
        "![alt text](https://www.plus2net.com/images/top2.jpg)        Read more on [File io ](https://www.plus2net.com/python/numpy-file-io.php) | [ Numpy ](https://www.plus2net.com/python/numpy.php)"
      ],
      "metadata": {
        "id": "IzacesE1Lrgq"
      }
    },
    {
      "cell_type": "code",
      "execution_count": null,
      "metadata": {
        "colab": {
          "base_uri": "https://localhost:8080/"
        },
        "id": "6fxC7yFUGXbd",
        "outputId": "af26f1e9-3329-4a12-b75f-aab3fcb99a4a"
      },
      "outputs": [
        {
          "output_type": "stream",
          "name": "stdout",
          "text": [
            "(3, 4) int64\n",
            "['features', 'target', 'weights']\n",
            "[[ 0  1  2  3]\n",
            " [ 4  5  6  7]\n",
            " [ 8  9 10 11]]\n"
          ]
        }
      ],
      "source": [
        "import numpy as np\n",
        "\n",
        "X = np.arange(12).reshape(3,4)\n",
        "\n",
        "# Save a single array\n",
        "np.save('data.npy', X)\n",
        "\n",
        "# Load it back\n",
        "X2 = np.load('data.npy')\n",
        "print(X2.shape, X2.dtype)\n",
        "\n",
        "# Save multiple arrays to .npz (named)\n",
        "y = np.linspace(0, 1, 5)\n",
        "w = np.array([1.0, 0.5, 2.0, 1.5])\n",
        "np.savez('bundle.npz', features=X, target=y, weights=w)\n",
        "\n",
        "# Or compressed\n",
        "np.savez_compressed('bundle_compressed.npz', X=X, y=y, w=w)\n",
        "\n",
        "# Load .npz (acts like a dict-like object)\n",
        "data = np.load('bundle.npz')\n",
        "print(list(data.keys()))     # ['features', 'target', 'weights']\n",
        "print(data['features'])"
      ]
    },
    {
      "cell_type": "code",
      "source": [
        "A = np.array([[1.5, 2.0, 3.25],\n",
        "              [4.0, 5.0, 6.125]])\n",
        "\n",
        "# Save as CSV with header, 3 decimals\n",
        "np.savetxt('matrix.csv', A, delimiter=',', fmt='%.3f',\n",
        "           header='col1,col2,col3', comments='')\n",
        "\n",
        "# Load back (skip header)\n",
        "B = np.loadtxt('matrix.csv', delimiter=',', skiprows=1)\n",
        "print(B)"
      ],
      "metadata": {
        "colab": {
          "base_uri": "https://localhost:8080/"
        },
        "id": "r9e-HgPaGoxY",
        "outputId": "278b1e47-690b-45a9-e612-1e65bc578924"
      },
      "execution_count": null,
      "outputs": [
        {
          "output_type": "stream",
          "name": "stdout",
          "text": [
            "[[1.5   2.    3.25 ]\n",
            " [4.    5.    6.125]]\n"
          ]
        }
      ]
    },
    {
      "cell_type": "code",
      "metadata": {
        "colab": {
          "base_uri": "https://localhost:8080/"
        },
        "id": "fd3bc7a7",
        "outputId": "c34dd7bf-b33c-46c6-d946-c5f9d9152dfd"
      },
      "source": [
        "# Create a dummy data_utf8.txt file\n",
        "with open('data_utf8.txt', 'w', encoding='utf-8') as f:\n",
        "    f.write('# This is a comment\\n')\n",
        "    f.write('1,2,3\\n')\n",
        "    f.write('4,5,6\\n')\n",
        "    f.write('7,8,9\\n')\n",
        "\n",
        "print(\"Created data_utf8.txt\")"
      ],
      "execution_count": null,
      "outputs": [
        {
          "output_type": "stream",
          "name": "stdout",
          "text": [
            "Created data_utf8.txt\n"
          ]
        }
      ]
    },
    {
      "cell_type": "code",
      "source": [
        "from io import StringIO\n",
        "import numpy as np\n",
        "\n",
        "csv = StringIO(\"\"\"# id, height, weight\n",
        "1,170,65\n",
        "2,,-1\n",
        "3,160,58\n",
        "\"\"\")\n",
        "\n",
        "arr = np.genfromtxt(\n",
        "    csv, delimiter=',', skip_header=1,\n",
        "    dtype=[('id','i4'),('height','f8'),('weight','f8')],\n",
        "    missing_values=['', '-1'], filling_values=np.nan\n",
        ")\n",
        "print(arr['height'])  # [170.  nan 160.]\n",
        "print(arr['weight'])  # [65. nan 58.]"
      ],
      "metadata": {
        "colab": {
          "base_uri": "https://localhost:8080/"
        },
        "id": "tMOiBj6MGu1B",
        "outputId": "63d10f33-3f6b-4853-d7b2-74f7872ab902"
      },
      "execution_count": null,
      "outputs": [
        {
          "output_type": "stream",
          "name": "stdout",
          "text": [
            "[170.  nan 160.]\n",
            "[65. -1. 58.]\n"
          ]
        }
      ]
    },
    {
      "cell_type": "code",
      "source": [
        "# Create a large memmap and write in chunks\n",
        "m = np.memmap('bigdata.dat', dtype='float32', mode='w+', shape=(10000, 1000))\n",
        "m[0:1000] = np.random.rand(1000, 1000).astype('float32')\n",
        "del m  # flush to disk\n",
        "\n",
        "# Read-only mapping later\n",
        "m2 = np.memmap('bigdata.dat', dtype='float32', mode='r', shape=(10000, 1000))\n",
        "print(m2[5000:5005, 100:110])"
      ],
      "metadata": {
        "colab": {
          "base_uri": "https://localhost:8080/"
        },
        "id": "SjJlhkDiHt_G",
        "outputId": "5e95316f-ffb6-4e11-aab1-885503a86d70"
      },
      "execution_count": null,
      "outputs": [
        {
          "output_type": "stream",
          "name": "stdout",
          "text": [
            "[[0. 0. 0. 0. 0. 0. 0. 0. 0. 0.]\n",
            " [0. 0. 0. 0. 0. 0. 0. 0. 0. 0.]\n",
            " [0. 0. 0. 0. 0. 0. 0. 0. 0. 0.]\n",
            " [0. 0. 0. 0. 0. 0. 0. 0. 0. 0.]\n",
            " [0. 0. 0. 0. 0. 0. 0. 0. 0. 0.]]\n"
          ]
        }
      ]
    },
    {
      "cell_type": "code",
      "metadata": {
        "colab": {
          "base_uri": "https://localhost:8080/"
        },
        "id": "f01ab86d",
        "outputId": "e3cd9829-4917-45aa-c78d-c5a3feafa3f6"
      },
      "source": [
        "# Create a dummy heights.csv file with units\n",
        "with open('heights.csv', 'w') as f:\n",
        "    f.write('id,height,weight\\n')\n",
        "    f.write('1,170cm,65kg\\n')\n",
        "    f.write('2,180cm,75kg\\n')\n",
        "    f.write('3,165cm,60kg\\n')\n",
        "\n",
        "print(\"Created heights.csv\")"
      ],
      "execution_count": null,
      "outputs": [
        {
          "output_type": "stream",
          "name": "stdout",
          "text": [
            "Created heights.csv\n"
          ]
        }
      ]
    },
    {
      "cell_type": "code",
      "source": [
        "# Encoding & comments\n",
        "arr = np.loadtxt('data_utf8.txt', delimiter=',', comments='#', encoding='utf-8')\n",
        "\n",
        "# Custom converters (strip units like 'cm' and 'kg')\n",
        "conv = {1: lambda s: float(s.replace('cm','')),\n",
        "        2: lambda s: float(s.replace('kg',''))}\n",
        "arr2 = np.loadtxt('heights.csv', delimiter=',', converters=conv, skiprows=1)"
      ],
      "metadata": {
        "id": "lOkm4HMOH0mv"
      },
      "execution_count": null,
      "outputs": []
    },
    {
      "cell_type": "code",
      "source": [
        "# 1) Save a (100, 5) float array to 'scores.npy' and load it back.\n",
        "X = np.random.rand(100, 5)\n",
        "np.save('scores.npy', X)\n",
        "print(np.load('scores.npy').shape)\n",
        "\n",
        "# 2) Write a (3,3) matrix to CSV with 2 decimals and a header row, then load it.\n",
        "M = np.arange(9).reshape(3,3) / 3\n",
        "np.savetxt('M.csv', M, fmt='%.2f', delimiter=',', header='a,b,c', comments='')\n",
        "print(np.loadtxt('M.csv', delimiter=',', skiprows=1))\n",
        "\n",
        "# 3) Use genfromtxt to read a CSV with missing values into floats, fill NaNs with column means.\n",
        "arr = np.genfromtxt('gaps.csv', delimiter=',', skip_header=1)\n",
        "col_means = np.nanmean(arr, axis=0)\n",
        "inds = np.where(np.isnan(arr))\n",
        "arr[inds] = np.take(col_means, inds[1])\n",
        "print(arr)\n",
        "\n",
        "# 4) Create a memmap to a large file, write a slice, and read it back.\n",
        "mm = np.memmap('blk.dat', dtype='float64', mode='w+', shape=(2000, 2000))\n",
        "mm[100:200] = 1.23\n",
        "del mm\n",
        "mm2 = np.memmap('blk.dat', dtype='float64', mode='r', shape=(2000, 2000))\n",
        "print(mm2[150, 150])"
      ],
      "metadata": {
        "colab": {
          "base_uri": "https://localhost:8080/"
        },
        "id": "E4f5jrD5IpWa",
        "outputId": "88947b9b-7445-41bb-a391-0ac885c73dde"
      },
      "execution_count": null,
      "outputs": [
        {
          "output_type": "stream",
          "name": "stdout",
          "text": [
            "(100, 5)\n",
            "[[0.   0.33 0.67]\n",
            " [1.   1.33 1.67]\n",
            " [2.   2.33 2.67]]\n",
            "[[ 1.    9.25  3.  ]\n",
            " [ 4.    5.    6.  ]\n",
            " [ 7.    8.    8.75]\n",
            " [ 6.25 10.   11.  ]\n",
            " [13.   14.   15.  ]]\n",
            "1.23\n"
          ]
        }
      ]
    },
    {
      "cell_type": "code",
      "metadata": {
        "colab": {
          "base_uri": "https://localhost:8080/"
        },
        "id": "7f7523bb",
        "outputId": "d528a370-9157-4186-91bb-ed7d6ad3ec3c"
      },
      "source": [
        "# Create a dummy gaps.csv file for demonstration\n",
        "with open('gaps.csv', 'w') as f:\n",
        "    f.write('col1,col2,col3\\n')\n",
        "    f.write('1.0,,3.0\\n')\n",
        "    f.write('4.0,5.0,6.0\\n')\n",
        "    f.write('7.0,8.0,\\n')\n",
        "    f.write(',10.0,11.0\\n')\n",
        "    f.write('13.0,14.0,15.0\\n')\n",
        "\n",
        "print(\"Created gaps.csv\")"
      ],
      "execution_count": null,
      "outputs": [
        {
          "output_type": "stream",
          "name": "stdout",
          "text": [
            "Created gaps.csv\n"
          ]
        }
      ]
    },
    {
      "cell_type": "code",
      "source": [
        "from pathlib import Path\n",
        "\n",
        "p = Path('data') / 'sample_data.npy'\n",
        "np.save(p, np.arange(5))\n",
        "print(np.load(p))"
      ],
      "metadata": {
        "colab": {
          "base_uri": "https://localhost:8080/",
          "height": 315
        },
        "collapsed": true,
        "id": "3vUxnuLuIW1y",
        "outputId": "f749745c-a413-4449-cc2a-c164003ea7e8"
      },
      "execution_count": null,
      "outputs": [
        {
          "output_type": "error",
          "ename": "FileNotFoundError",
          "evalue": "[Errno 2] No such file or directory: 'data/sample_data.npy'",
          "traceback": [
            "\u001b[0;31m---------------------------------------------------------------------------\u001b[0m",
            "\u001b[0;31mFileNotFoundError\u001b[0m                         Traceback (most recent call last)",
            "\u001b[0;32m/tmp/ipython-input-319602155.py\u001b[0m in \u001b[0;36m<cell line: 0>\u001b[0;34m()\u001b[0m\n\u001b[1;32m      2\u001b[0m \u001b[0;34m\u001b[0m\u001b[0m\n\u001b[1;32m      3\u001b[0m \u001b[0mp\u001b[0m \u001b[0;34m=\u001b[0m \u001b[0mPath\u001b[0m\u001b[0;34m(\u001b[0m\u001b[0;34m'data'\u001b[0m\u001b[0;34m)\u001b[0m \u001b[0;34m/\u001b[0m \u001b[0;34m'sample_data.npy'\u001b[0m\u001b[0;34m\u001b[0m\u001b[0;34m\u001b[0m\u001b[0m\n\u001b[0;32m----> 4\u001b[0;31m \u001b[0mnp\u001b[0m\u001b[0;34m.\u001b[0m\u001b[0msave\u001b[0m\u001b[0;34m(\u001b[0m\u001b[0mp\u001b[0m\u001b[0;34m,\u001b[0m \u001b[0mnp\u001b[0m\u001b[0;34m.\u001b[0m\u001b[0marange\u001b[0m\u001b[0;34m(\u001b[0m\u001b[0;36m5\u001b[0m\u001b[0;34m)\u001b[0m\u001b[0;34m)\u001b[0m\u001b[0;34m\u001b[0m\u001b[0;34m\u001b[0m\u001b[0m\n\u001b[0m\u001b[1;32m      5\u001b[0m \u001b[0mprint\u001b[0m\u001b[0;34m(\u001b[0m\u001b[0mnp\u001b[0m\u001b[0;34m.\u001b[0m\u001b[0mload\u001b[0m\u001b[0;34m(\u001b[0m\u001b[0mp\u001b[0m\u001b[0;34m)\u001b[0m\u001b[0;34m)\u001b[0m\u001b[0;34m\u001b[0m\u001b[0;34m\u001b[0m\u001b[0m\n",
            "\u001b[0;32m/usr/local/lib/python3.12/dist-packages/numpy/lib/_npyio_impl.py\u001b[0m in \u001b[0;36msave\u001b[0;34m(file, arr, allow_pickle, fix_imports)\u001b[0m\n\u001b[1;32m    568\u001b[0m         \u001b[0;32mif\u001b[0m \u001b[0;32mnot\u001b[0m \u001b[0mfile\u001b[0m\u001b[0;34m.\u001b[0m\u001b[0mendswith\u001b[0m\u001b[0;34m(\u001b[0m\u001b[0;34m'.npy'\u001b[0m\u001b[0;34m)\u001b[0m\u001b[0;34m:\u001b[0m\u001b[0;34m\u001b[0m\u001b[0;34m\u001b[0m\u001b[0m\n\u001b[1;32m    569\u001b[0m             \u001b[0mfile\u001b[0m \u001b[0;34m=\u001b[0m \u001b[0mfile\u001b[0m \u001b[0;34m+\u001b[0m \u001b[0;34m'.npy'\u001b[0m\u001b[0;34m\u001b[0m\u001b[0;34m\u001b[0m\u001b[0m\n\u001b[0;32m--> 570\u001b[0;31m         \u001b[0mfile_ctx\u001b[0m \u001b[0;34m=\u001b[0m \u001b[0mopen\u001b[0m\u001b[0;34m(\u001b[0m\u001b[0mfile\u001b[0m\u001b[0;34m,\u001b[0m \u001b[0;34m\"wb\"\u001b[0m\u001b[0;34m)\u001b[0m\u001b[0;34m\u001b[0m\u001b[0;34m\u001b[0m\u001b[0m\n\u001b[0m\u001b[1;32m    571\u001b[0m \u001b[0;34m\u001b[0m\u001b[0m\n\u001b[1;32m    572\u001b[0m     \u001b[0;32mwith\u001b[0m \u001b[0mfile_ctx\u001b[0m \u001b[0;32mas\u001b[0m \u001b[0mfid\u001b[0m\u001b[0;34m:\u001b[0m\u001b[0;34m\u001b[0m\u001b[0;34m\u001b[0m\u001b[0m\n",
            "\u001b[0;31mFileNotFoundError\u001b[0m: [Errno 2] No such file or directory: 'data/sample_data.npy'"
          ]
        }
      ]
    }
  ]
}