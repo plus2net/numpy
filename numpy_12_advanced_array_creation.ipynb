{
  "nbformat": 4,
  "nbformat_minor": 0,
  "metadata": {
    "colab": {
      "provenance": [],
      "authorship_tag": "ABX9TyMIxSsUVJcd0K1hnKvRWd6P",
      "include_colab_link": true
    },
    "kernelspec": {
      "name": "python3",
      "display_name": "Python 3"
    },
    "language_info": {
      "name": "python"
    }
  },
  "cells": [
    {
      "cell_type": "markdown",
      "metadata": {
        "id": "view-in-github",
        "colab_type": "text"
      },
      "source": [
        "<a href=\"https://colab.research.google.com/github/plus2net/numpy/blob/main/numpy_12_advanced_array_creation.ipynb\" target=\"_parent\"><img src=\"https://colab.research.google.com/assets/colab-badge.svg\" alt=\"Open In Colab\"/></a>"
      ]
    },
    {
      "cell_type": "markdown",
      "source": [
        "![alt text](https://www.plus2net.com/images/top2.jpg)        Read more on [Advanced Array Creation ](https://www.plus2net.com/python/numpy-advanced-array-creation.php) | [ Numpy ](https://www.plus2net.com/python/numpy.php)"
      ],
      "metadata": {
        "id": "IzacesE1Lrgq"
      }
    },
    {
      "cell_type": "code",
      "execution_count": 1,
      "metadata": {
        "id": "6fxC7yFUGXbd",
        "colab": {
          "base_uri": "https://localhost:8080/"
        },
        "outputId": "1243d84f-c49c-494e-9667-51993d89ba8e"
      },
      "outputs": [
        {
          "output_type": "stream",
          "name": "stdout",
          "text": [
            "[[1 2 3]\n",
            " [1 2 3]\n",
            " [1 2 3]]\n",
            "[[10 10 10]\n",
            " [20 20 20]\n",
            " [30 30 30]]\n"
          ]
        }
      ],
      "source": [
        "import numpy as np\n",
        "\n",
        "x = np.array([1,2,3])\n",
        "y = np.array([10,20,30])\n",
        "\n",
        "X, Y = np.meshgrid(x, y)\n",
        "print(X)\n",
        "# [[1 2 3]\n",
        "#  [1 2 3]\n",
        "#  [1 2 3]]\n",
        "\n",
        "print(Y)\n",
        "# [[10 10 10]\n",
        "#  [20 20 20]\n",
        "#  [30 30 30]]"
      ]
    },
    {
      "cell_type": "code",
      "source": [
        "a = np.array([1,2,3,4])\n",
        "print(np.diag(a))\n",
        "# [[1 0 0 0]\n",
        "#  [0 2 0 0]\n",
        "#  [0 0 3 0]\n",
        "#  [0 0 0 4]]\n",
        "\n",
        "M = np.array([[1,2,3],[4,5,6],[7,8,9]])\n",
        "print(np.diag(M))   # [1 5 9] extract diagonal"
      ],
      "metadata": {
        "colab": {
          "base_uri": "https://localhost:8080/"
        },
        "id": "EFHnMOeSnGTA",
        "outputId": "22ebc345-78ed-4fa9-fbe1-fe24847601d4"
      },
      "execution_count": 2,
      "outputs": [
        {
          "output_type": "stream",
          "name": "stdout",
          "text": [
            "[[1 0 0 0]\n",
            " [0 2 0 0]\n",
            " [0 0 3 0]\n",
            " [0 0 0 4]]\n",
            "[1 5 9]\n"
          ]
        }
      ]
    },
    {
      "cell_type": "code",
      "source": [
        "v = np.array([1,2,3])\n",
        "print(np.tile(v, 3))\n",
        "# [1 2 3 1 2 3 1 2 3]\n",
        "\n",
        "M = np.array([[1,2],[3,4]])\n",
        "print(np.tile(M, (2,3)))\n",
        "# [[1 2 1 2 1 2]\n",
        "#  [3 4 3 4 3 4]\n",
        "#  [1 2 1 2 1 2]\n",
        "#  [3 4 3 4 3 4]]"
      ],
      "metadata": {
        "colab": {
          "base_uri": "https://localhost:8080/"
        },
        "id": "PY_7QGVenOs-",
        "outputId": "68c90215-b238-41af-b849-b1991e440a90"
      },
      "execution_count": 3,
      "outputs": [
        {
          "output_type": "stream",
          "name": "stdout",
          "text": [
            "[1 2 3 1 2 3 1 2 3]\n",
            "[[1 2 1 2 1 2]\n",
            " [3 4 3 4 3 4]\n",
            " [1 2 1 2 1 2]\n",
            " [3 4 3 4 3 4]]\n"
          ]
        }
      ]
    },
    {
      "cell_type": "code",
      "source": [
        "x = np.array([1,2,3])\n",
        "print(np.repeat(x, 2))\n",
        "# [1 1 2 2 3 3]\n",
        "\n",
        "M = np.array([[1,2],[3,4]])\n",
        "print(np.repeat(M, 2, axis=0))\n",
        "# [[1 2]\n",
        "#  [1 2]\n",
        "#  [3 4]\n",
        "#  [3 4]]"
      ],
      "metadata": {
        "colab": {
          "base_uri": "https://localhost:8080/"
        },
        "id": "AnrLl45OnSKP",
        "outputId": "cbbb3cc6-5806-4845-9b41-fcfd000af68b"
      },
      "execution_count": 4,
      "outputs": [
        {
          "output_type": "stream",
          "name": "stdout",
          "text": [
            "[1 1 2 2 3 3]\n",
            "[[1 2]\n",
            " [1 2]\n",
            " [3 4]\n",
            " [3 4]]\n"
          ]
        }
      ]
    },
    {
      "cell_type": "code",
      "metadata": {
        "colab": {
          "base_uri": "https://localhost:8080/"
        },
        "id": "64b604d4",
        "outputId": "a016565c-8001-4d86-a6e0-23c1e641e3fb"
      },
      "source": [
        "x = np.array([0, 1, 2])\n",
        "y = np.array([0, 10, 20, 30])\n",
        "\n",
        "X, Y = np.meshgrid(x, y)\n",
        "\n",
        "print(\"X grid:\")\n",
        "print(X)\n",
        "\n",
        "print(\"\\nY grid:\")\n",
        "print(Y)"
      ],
      "execution_count": 5,
      "outputs": [
        {
          "output_type": "stream",
          "name": "stdout",
          "text": [
            "X grid:\n",
            "[[0 1 2]\n",
            " [0 1 2]\n",
            " [0 1 2]\n",
            " [0 1 2]]\n",
            "\n",
            "Y grid:\n",
            "[[ 0  0  0]\n",
            " [10 10 10]\n",
            " [20 20 20]\n",
            " [30 30 30]]\n"
          ]
        }
      ]
    },
    {
      "cell_type": "code",
      "metadata": {
        "colab": {
          "base_uri": "https://localhost:8080/"
        },
        "id": "9221bfcc",
        "outputId": "eb4b3ba1-2695-4b2f-a874-9d4608d73ff8"
      },
      "source": [
        "import numpy as np\n",
        "# Create a grid of (x,y) points for x=[0,1,2] and y=[0,10,20,30].\n",
        "# Create a sample 4x4 matrix\n",
        "M = np.array([[1, 2, 3, 4],\n",
        "              [5, 6, 7, 8],\n",
        "              [9, 10, 11, 12],\n",
        "              [13, 14, 15, 16]])\n",
        "\n",
        "print(\"Original matrix:\")\n",
        "print(M)\n",
        "\n",
        "# Extract diagonal elements\n",
        "diagonal_elements = np.diag(M)\n",
        "print(\"\\nDiagonal elements:\")\n",
        "print(diagonal_elements)\n",
        "\n",
        "# Create a copy of the matrix to modify\n",
        "M_modified = M.copy()\n",
        "\n",
        "# Replace diagonal elements with zeros\n",
        "np.fill_diagonal(M_modified, 0)\n",
        "\n",
        "print(\"\\nMatrix with diagonal elements replaced by zeros:\")\n",
        "print(M_modified)"
      ],
      "execution_count": 6,
      "outputs": [
        {
          "output_type": "stream",
          "name": "stdout",
          "text": [
            "Original matrix:\n",
            "[[ 1  2  3  4]\n",
            " [ 5  6  7  8]\n",
            " [ 9 10 11 12]\n",
            " [13 14 15 16]]\n",
            "\n",
            "Diagonal elements:\n",
            "[ 1  6 11 16]\n",
            "\n",
            "Matrix with diagonal elements replaced by zeros:\n",
            "[[ 0  2  3  4]\n",
            " [ 5  0  7  8]\n",
            " [ 9 10  0 12]\n",
            " [13 14 15  0]]\n"
          ]
        }
      ]
    },
    {
      "cell_type": "code",
      "metadata": {
        "colab": {
          "base_uri": "https://localhost:8080/"
        },
        "id": "a7feea48",
        "outputId": "609559ca-5015-425c-ae90-96a40688a80e"
      },
      "source": [
        "# Tile [1,0] five times to create a 1D pattern.\n",
        "import numpy as np\n",
        "\n",
        "v = np.array([1, 0])\n",
        "tiled_array = np.tile(v, 5)\n",
        "print(tiled_array)"
      ],
      "execution_count": 11,
      "outputs": [
        {
          "output_type": "stream",
          "name": "stdout",
          "text": [
            "[1 0 1 0 1 0 1 0 1 0]\n"
          ]
        }
      ]
    },
    {
      "cell_type": "code",
      "metadata": {
        "colab": {
          "base_uri": "https://localhost:8080/"
        },
        "id": "97a5c6a9",
        "outputId": "bb68604e-cdc0-403b-b618-332701236a1b"
      },
      "source": [
        "# Repeat each row of [[5,6],[7,8]] three times.\n",
        "import numpy as np\n",
        "\n",
        "M = np.array([[5, 6], [7, 8]])\n",
        "repeated_array = np.repeat(M, 3, axis=0)\n",
        "print(repeated_array)"
      ],
      "execution_count": 10,
      "outputs": [
        {
          "output_type": "stream",
          "name": "stdout",
          "text": [
            "[[5 6]\n",
            " [5 6]\n",
            " [5 6]\n",
            " [7 8]\n",
            " [7 8]\n",
            " [7 8]]\n"
          ]
        }
      ]
    },
    {
      "cell_type": "code",
      "source": [],
      "metadata": {
        "id": "rfvpdqM6oUMD"
      },
      "execution_count": null,
      "outputs": []
    }
  ]
}