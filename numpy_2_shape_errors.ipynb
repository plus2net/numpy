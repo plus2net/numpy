{
  "nbformat": 4,
  "nbformat_minor": 0,
  "metadata": {
    "colab": {
      "provenance": [],
      "authorship_tag": "ABX9TyO+U81cbmmIBuxBGyL82CHf",
      "include_colab_link": true
    },
    "kernelspec": {
      "name": "python3",
      "display_name": "Python 3"
    },
    "language_info": {
      "name": "python"
    }
  },
  "cells": [
    {
      "cell_type": "markdown",
      "metadata": {
        "id": "view-in-github",
        "colab_type": "text"
      },
      "source": [
        "<a href=\"https://colab.research.google.com/github/plus2net/numpy/blob/main/numpy_2_shape_errors.ipynb\" target=\"_parent\"><img src=\"https://colab.research.google.com/assets/colab-badge.svg\" alt=\"Open In Colab\"/></a>"
      ]
    },
    {
      "cell_type": "markdown",
      "source": [
        "![alt text](https://www.plus2net.com/images/top2.jpg)        Read more on [Shape errors ](https://www.plus2net.com/python/numpy-shape-errors.php) | [ Numpy ](https://www.plus2net.com/python/numpy.php)"
      ],
      "metadata": {
        "id": "IzacesE1Lrgq"
      }
    },
    {
      "cell_type": "code",
      "execution_count": null,
      "metadata": {
        "colab": {
          "base_uri": "https://localhost:8080/"
        },
        "id": "6fxC7yFUGXbd",
        "outputId": "2d3bbd42-902b-4192-8ff9-143d4ec19517"
      },
      "outputs": [
        {
          "output_type": "stream",
          "name": "stdout",
          "text": [
            "[0 1 2 3 4 5 6 7 8 9]\n",
            "(2, 5)\n",
            "(2, 5)\n"
          ]
        }
      ],
      "source": [
        "import numpy as np\n",
        "a = np.arange(10)        # 10 elements\n",
        "# print(a)\n",
        "# a.reshape(3, 4)        # ValueError: 3*4=12 != 10\n",
        "\n",
        "print(a.reshape(2, 5).shape)   # (2, 5)\n",
        "print(a.reshape(-1, 5).shape)  # (2, 5)  (-1 lets NumPy infer)"
      ]
    },
    {
      "cell_type": "code",
      "source": [
        "A = np.zeros((3,4))\n",
        "b = np.array([10,20,30])       # (3,)\n",
        "# A + b  # -> ValueError (align right: 4 vs 3)\n",
        "\n",
        "b_col = b[:, None]             # (3,1) -> expands across columns\n",
        "print((A + b_col).shape)       # (3,4)"
      ],
      "metadata": {
        "colab": {
          "base_uri": "https://localhost:8080/"
        },
        "id": "vdE7hFf6wj3r",
        "outputId": "026aa848-ce3f-435a-e73a-acb313fd3fc9"
      },
      "execution_count": null,
      "outputs": [
        {
          "output_type": "stream",
          "name": "stdout",
          "text": [
            "(3, 4)\n"
          ]
        }
      ]
    },
    {
      "cell_type": "code",
      "source": [
        "X = np.arange(12, dtype=float).reshape(3,4)  # (rows, cols)\n",
        "mu = X.mean(axis=0)                          # (4,)\n",
        "print((X - mu).shape)                        # (3,4)\n",
        "mu2 = X.mean(axis=1, keepdims=True)          # (3,1)\n",
        "print((X - mu2).shape)                       # (3,4) column-wise broadcast"
      ],
      "metadata": {
        "colab": {
          "base_uri": "https://localhost:8080/"
        },
        "id": "zyr45SBew2QI",
        "outputId": "d95a2bec-5a03-49bd-d83f-0427b8cd475c"
      },
      "execution_count": null,
      "outputs": [
        {
          "output_type": "stream",
          "name": "stdout",
          "text": [
            "(3, 4)\n",
            "(3, 4)\n"
          ]
        }
      ]
    },
    {
      "cell_type": "code",
      "source": [
        "a = np.ones((2,3))\n",
        "b = np.zeros((2,3))\n",
        "\n",
        "print(np.concatenate([a,b], axis=0).shape)  # (4,3)\n",
        "print(np.concatenate([a,b], axis=1).shape)  # (2,6)\n",
        "\n",
        "print(np.stack([a,b], axis=0).shape)        # (2,2,3) new axis at 0\n",
        "print(np.stack([a,b], axis=1).shape)        # (2,2,3) -> different layout"
      ],
      "metadata": {
        "colab": {
          "base_uri": "https://localhost:8080/"
        },
        "id": "KHkLwswcw4--",
        "outputId": "1bfd5888-0c89-49bc-9728-4bbb28fb17c2"
      },
      "execution_count": null,
      "outputs": [
        {
          "output_type": "stream",
          "name": "stdout",
          "text": [
            "(4, 3)\n",
            "(2, 6)\n",
            "(2, 2, 3)\n",
            "(2, 2, 3)\n"
          ]
        }
      ]
    },
    {
      "cell_type": "code",
      "source": [
        "A = np.arange(6).reshape(2,3)   # (2,3)\n",
        "B = np.arange(9).reshape(3,3)   # (3,3)\n",
        "print((A @ B).shape)            # (2,3)\n",
        "\n",
        "# (2,3) @ (2,) -> error; fix by making (3,)\n",
        "v = np.array([1,2,3])\n",
        "print((A @ v).shape)            # (2,)"
      ],
      "metadata": {
        "colab": {
          "base_uri": "https://localhost:8080/"
        },
        "id": "viN25RFnw_8x",
        "outputId": "a538d23c-21cb-4cd4-c86e-a9a9efc8b722"
      },
      "execution_count": null,
      "outputs": [
        {
          "output_type": "stream",
          "name": "stdout",
          "text": [
            "(2, 3)\n",
            "(2,)\n"
          ]
        }
      ]
    },
    {
      "cell_type": "code",
      "source": [
        "y = np.arange(6).reshape(6,1)   # (6,1)\n",
        "y_flat = np.squeeze(y)          # (6,)\n",
        "\n",
        "x = np.arange(6)                # (6,)\n",
        "x_col = x[:, None]              # (6,1) using newaxis\n",
        "x_row = x[None, :]              # (1,6)"
      ],
      "metadata": {
        "id": "z2HRBuFExFFd"
      },
      "execution_count": null,
      "outputs": []
    },
    {
      "cell_type": "code",
      "source": [
        "M = np.arange(12).reshape(3,4)\n",
        "MT = M.T            # (4,3)\n",
        "print(M.shape, MT.shape)\n",
        "# If you need contiguous memory:\n",
        "MTc = np.ascontiguousarray(MT)"
      ],
      "metadata": {
        "colab": {
          "base_uri": "https://localhost:8080/"
        },
        "id": "H08yeFs_xK_h",
        "outputId": "5ad94fb2-8555-4074-eb8c-b79a435d151b"
      },
      "execution_count": null,
      "outputs": [
        {
          "output_type": "stream",
          "name": "stdout",
          "text": [
            "(3, 4) (4, 3)\n"
          ]
        }
      ]
    },
    {
      "cell_type": "code",
      "source": [
        "T = np.arange(2*3*4).reshape(2,3,4)  # (depth, rows, cols)\n",
        "bias = np.array([1,2,3,4])           # (4,)\n",
        "print((T + bias).shape)              # (2,3,4)\n",
        "\n",
        "depth_bias = np.array([10, 20])[:, None, None]  # (2,1,1)\n",
        "print((T + depth_bias).shape)                    # (2,3,4)"
      ],
      "metadata": {
        "colab": {
          "base_uri": "https://localhost:8080/"
        },
        "id": "UdwloPv_xShY",
        "outputId": "1589024e-2673-48f8-82b3-1117249f220d"
      },
      "execution_count": null,
      "outputs": [
        {
          "output_type": "stream",
          "name": "stdout",
          "text": [
            "(2, 3, 4)\n",
            "(2, 3, 4)\n"
          ]
        }
      ]
    },
    {
      "cell_type": "code",
      "source": [
        "import numpy as np\n",
        "\n",
        "# 1) Fix the broadcast to add [1,2,3] to each row of a (5,3) matrix.\n",
        "A = np.arange(15).reshape(5,3)\n",
        "row = np.array([1,2,3])            # (3,)\n",
        "print(A + row)                      # should work\n",
        "\n",
        "# 2) Concatenate three (10,4) blocks vertically, then compute column means.\n",
        "blocks = [np.full((10,4), i) for i in range(3)]\n",
        "big = np.concatenate(blocks, axis=0)   # (30,4)\n",
        "print(big.mean(axis=0))\n",
        "\n",
        "# 3) Make a column vector from [10,20,30] and add to a (3,5) array.\n",
        "col = np.array([10,20,30])[:, None]    # (3,1)\n",
        "B = np.arange(15).reshape(3,5)\n",
        "print(B + col)\n",
        "\n",
        "# 4) Turn a flat array of 24 items into a (2,3,4) tensor and subtract a (4,) bias.\n",
        "t = np.arange(24)\n",
        "T = t.reshape(2,3,4)\n",
        "bias = np.array([1,2,3,4])\n",
        "print(T - bias)"
      ],
      "metadata": {
        "colab": {
          "base_uri": "https://localhost:8080/"
        },
        "id": "RV4mj9rcxZ5L",
        "outputId": "8bb14aa7-a9ef-4870-d453-59bf0f9c9ce2"
      },
      "execution_count": null,
      "outputs": [
        {
          "output_type": "stream",
          "name": "stdout",
          "text": [
            "[[ 1  3  5]\n",
            " [ 4  6  8]\n",
            " [ 7  9 11]\n",
            " [10 12 14]\n",
            " [13 15 17]]\n",
            "[1. 1. 1. 1.]\n",
            "[[10 11 12 13 14]\n",
            " [25 26 27 28 29]\n",
            " [40 41 42 43 44]]\n",
            "[[[-1 -1 -1 -1]\n",
            "  [ 3  3  3  3]\n",
            "  [ 7  7  7  7]]\n",
            "\n",
            " [[11 11 11 11]\n",
            "  [15 15 15 15]\n",
            "  [19 19 19 19]]]\n"
          ]
        }
      ]
    }
  ]
}