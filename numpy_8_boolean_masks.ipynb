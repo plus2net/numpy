{
  "nbformat": 4,
  "nbformat_minor": 0,
  "metadata": {
    "colab": {
      "provenance": [],
      "authorship_tag": "ABX9TyPlsuHnovOdbHPtLOUu3U7l",
      "include_colab_link": true
    },
    "kernelspec": {
      "name": "python3",
      "display_name": "Python 3"
    },
    "language_info": {
      "name": "python"
    }
  },
  "cells": [
    {
      "cell_type": "markdown",
      "metadata": {
        "id": "view-in-github",
        "colab_type": "text"
      },
      "source": [
        "<a href=\"https://colab.research.google.com/github/plus2net/numpy/blob/main/numpy_8_boolean_masks.ipynb\" target=\"_parent\"><img src=\"https://colab.research.google.com/assets/colab-badge.svg\" alt=\"Open In Colab\"/></a>"
      ]
    },
    {
      "cell_type": "markdown",
      "source": [
        "![alt text](https://www.plus2net.com/images/top2.jpg)        Read more on [Boolean Masks  ](https://www.plus2net.com/python/numpy-boolean-masks.php) | [ Numpy ](https://www.plus2net.com/python/numpy.php)"
      ],
      "metadata": {
        "id": "IzacesE1Lrgq"
      }
    },
    {
      "cell_type": "code",
      "execution_count": 1,
      "metadata": {
        "id": "6fxC7yFUGXbd",
        "colab": {
          "base_uri": "https://localhost:8080/"
        },
        "outputId": "ebdfa84e-68a3-4338-aad2-aae140bd8b8b"
      },
      "outputs": [
        {
          "output_type": "stream",
          "name": "stdout",
          "text": [
            "[False  True False  True False  True]\n",
            "[12 22 18]\n",
            "[12 22 18]\n"
          ]
        }
      ],
      "source": [
        "import numpy as np\n",
        "\n",
        "x = np.array([5, 12, 7, 22, 3, 18])\n",
        "\n",
        "mask = x >= 10\n",
        "print(mask)     # [False  True False  True False  True]\n",
        "print(x[mask])  # [12 22 18]\n",
        "\n",
        "# Combine conditions (use parentheses with & and |)\n",
        "mask2 = (x >= 10) & (x % 2 == 0)\n",
        "print(x[mask2]) # [12 22 18]"
      ]
    },
    {
      "cell_type": "code",
      "source": [
        "# Replace values < 10 with 0, keep others\n",
        "y = np.where(x < 10, 0, x)\n",
        "print(y)  # [ 0 12  0 22  0 18]\n",
        "\n",
        "# Map to categories\n",
        "labels = np.where(x >= 15, 'high', 'low')\n",
        "print(labels)  # ['low' 'low' 'low' 'high' 'low' 'high']"
      ],
      "metadata": {
        "colab": {
          "base_uri": "https://localhost:8080/"
        },
        "id": "WqsMG-aAmsMf",
        "outputId": "662654f4-11af-479c-b3a9-5050ea08ad53"
      },
      "execution_count": 2,
      "outputs": [
        {
          "output_type": "stream",
          "name": "stdout",
          "text": [
            "[ 0 12  0 22  0 18]\n",
            "['low' 'low' 'low' 'high' 'low' 'high']\n"
          ]
        }
      ]
    },
    {
      "cell_type": "code",
      "source": [
        "a = np.arange(12)\n",
        "m1 = (a >= 3) & (a <= 8)               # operators\n",
        "m2 = np.logical_and(a >= 3, a <= 8)     # functions\n",
        "print((a[m1], a[m2]))                   # (array([3,4,5,6,7,8]), array([3,4,5,6,7,8]))"
      ],
      "metadata": {
        "colab": {
          "base_uri": "https://localhost:8080/"
        },
        "id": "xNCDIFh6mxd-",
        "outputId": "fb50936f-2c64-4012-e001-b619a17876b7"
      },
      "execution_count": 3,
      "outputs": [
        {
          "output_type": "stream",
          "name": "stdout",
          "text": [
            "(array([3, 4, 5, 6, 7, 8]), array([3, 4, 5, 6, 7, 8]))\n"
          ]
        }
      ]
    },
    {
      "cell_type": "code",
      "source": [
        "b = np.array([[ 1,  2,  3],\n",
        "              [10, 20, 30],\n",
        "              [40, 50, 60]])\n",
        "\n",
        "# Column-wise filter: take rows where column 0 >= 10\n",
        "row_mask = b[:, 0] >= 10\n",
        "print(b[row_mask])      # [[10 20 30],\n",
        "                        #  [40 50 60]]\n",
        "\n",
        "# Element-wise mask: keep only elements >= 20\n",
        "elem_mask = b >= 20\n",
        "print(b[elem_mask])     # [20 30 40 50 60]"
      ],
      "metadata": {
        "colab": {
          "base_uri": "https://localhost:8080/"
        },
        "id": "DhZGebowm4f3",
        "outputId": "3dccc0b7-8363-4712-f351-109302b2267a"
      },
      "execution_count": 4,
      "outputs": [
        {
          "output_type": "stream",
          "name": "stdout",
          "text": [
            "[[10 20 30]\n",
            " [40 50 60]]\n",
            "[20 30 40 50 60]\n"
          ]
        }
      ]
    },
    {
      "cell_type": "code",
      "source": [
        "c = np.array([1.0, np.nan, 3.5, np.inf, -np.inf, 2.2])\n",
        "finite_mask = np.isfinite(c)\n",
        "print(c[finite_mask])       # [1.  3.5 2.2]\n",
        "\n",
        "# Replace NaNs with column mean example (1D demo)\n",
        "c_fixed = np.where(np.isnan(c), np.nanmean(c), c)\n",
        "print(c_fixed)"
      ],
      "metadata": {
        "colab": {
          "base_uri": "https://localhost:8080/"
        },
        "id": "exQt1t1Vm9jx",
        "outputId": "4db63474-c716-4724-939a-6cd2b5b0b710"
      },
      "execution_count": 7,
      "outputs": [
        {
          "output_type": "stream",
          "name": "stdout",
          "text": [
            "[1.  3.5 2.2]\n",
            "[ 1.   nan  3.5  inf -inf  2.2]\n"
          ]
        }
      ]
    },
    {
      "cell_type": "code",
      "source": [
        "d = np.arange(10)\n",
        "d[d % 2 == 1] = -1\n",
        "print(d)    # [ 0 -1  2 -1  4 -1  6 -1  8 -1]"
      ],
      "metadata": {
        "colab": {
          "base_uri": "https://localhost:8080/"
        },
        "id": "6qHHbgqWnJx5",
        "outputId": "c5b68fd7-9054-4f17-81ce-95695e26bafb"
      },
      "execution_count": 8,
      "outputs": [
        {
          "output_type": "stream",
          "name": "stdout",
          "text": [
            "[ 0 -1  2 -1  4 -1  6 -1  8 -1]\n"
          ]
        }
      ]
    },
    {
      "cell_type": "code",
      "source": [
        "# 1) Keep numbers between 25 and 60 inclusive from 0..99\n",
        "a = np.arange(100)\n",
        "print(a[(a >= 25) & (a <= 60)])\n",
        "\n",
        "# 2) From a 5x5 array, set values < the row mean to 0\n",
        "b = np.arange(25).reshape(5,5)\n",
        "row_means = b.mean(axis=1, keepdims=True)\n",
        "b[b < row_means] = 0\n",
        "print(b)\n",
        "\n",
        "# 3) Replace NaNs in an array with the median of finite values\n",
        "c = np.array([2.0, np.nan, 7.0, np.nan, 5.0])\n",
        "finite = c[np.isfinite(c)]\n",
        "c = np.where(np.isnan(c), np.median(finite), c)\n",
        "print(c)"
      ],
      "metadata": {
        "colab": {
          "base_uri": "https://localhost:8080/"
        },
        "id": "sywDnzpsnP5i",
        "outputId": "04c792cd-ec08-4a3a-9cc6-0a4807c38334"
      },
      "execution_count": 9,
      "outputs": [
        {
          "output_type": "stream",
          "name": "stdout",
          "text": [
            "[25 26 27 28 29 30 31 32 33 34 35 36 37 38 39 40 41 42 43 44 45 46 47 48\n",
            " 49 50 51 52 53 54 55 56 57 58 59 60]\n",
            "[[ 0  0  2  3  4]\n",
            " [ 0  0  7  8  9]\n",
            " [ 0  0 12 13 14]\n",
            " [ 0  0 17 18 19]\n",
            " [ 0  0 22 23 24]]\n",
            "[2. 5. 7. 5. 5.]\n"
          ]
        }
      ]
    }
  ]
}