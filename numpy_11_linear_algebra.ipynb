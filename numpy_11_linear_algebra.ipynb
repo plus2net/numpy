{
  "nbformat": 4,
  "nbformat_minor": 0,
  "metadata": {
    "colab": {
      "provenance": [],
      "authorship_tag": "ABX9TyO5DKlUOl/shzHPLJkev58c",
      "include_colab_link": true
    },
    "kernelspec": {
      "name": "python3",
      "display_name": "Python 3"
    },
    "language_info": {
      "name": "python"
    }
  },
  "cells": [
    {
      "cell_type": "markdown",
      "metadata": {
        "id": "view-in-github",
        "colab_type": "text"
      },
      "source": [
        "<a href=\"https://colab.research.google.com/github/plus2net/numpy/blob/main/numpy_11_linear_algebra.ipynb\" target=\"_parent\"><img src=\"https://colab.research.google.com/assets/colab-badge.svg\" alt=\"Open In Colab\"/></a>"
      ]
    },
    {
      "cell_type": "markdown",
      "source": [
        "![alt text](https://www.plus2net.com/images/top2.jpg)        Read more on [Linear Algebra ](https://www.plus2net.com/python/numpy-linear-algebra.php) | [ Numpy ](https://www.plus2net.com/python/numpy.php)"
      ],
      "metadata": {
        "id": "IzacesE1Lrgq"
      }
    },
    {
      "cell_type": "code",
      "execution_count": 1,
      "metadata": {
        "id": "6fxC7yFUGXbd",
        "colab": {
          "base_uri": "https://localhost:8080/"
        },
        "outputId": "c664332b-a085-4933-901f-aac01535cdd1"
      },
      "outputs": [
        {
          "output_type": "stream",
          "name": "stdout",
          "text": [
            "[[19 22]\n",
            " [43 50]]\n",
            "[ 50 110]\n",
            "32\n",
            "[[[ 3.]\n",
            "  [ 7.]]\n",
            "\n",
            " [[10.]\n",
            "  [14.]]\n",
            "\n",
            " [[ 0.]\n",
            "  [ 3.]]]\n"
          ]
        }
      ],
      "source": [
        "import numpy as np\n",
        "\n",
        "A = np.array([[1, 2],\n",
        "              [3, 4]])    # shape (2,2)\n",
        "B = np.array([[5, 6],\n",
        "              [7, 8]])    # shape (2,2)\n",
        "x = np.array([10, 20])     # shape (2,)\n",
        "\n",
        "# Matrix @ Matrix\n",
        "print(A @ B)          # [[19 22],\n",
        "                      #  [43 50]]\n",
        "\n",
        "# Matrix @ Vector\n",
        "print(A @ x)          # [ 50 110]\n",
        "\n",
        "# dot with 1-D => inner product\n",
        "u = np.array([1, 2, 3])\n",
        "v = np.array([4, 5, 6])\n",
        "print(np.dot(u, v))   # 32\n",
        "\n",
        "# Batched matmul (3 matrices of 2x2 each)\n",
        "stack = np.stack([A, B, np.eye(2)])\n",
        "vecs  = np.array([[1,1],[2,0],[0,3]])     # (3,2)\n",
        "print(stack @ vecs[..., None])            # (3,2,1)"
      ]
    },
    {
      "cell_type": "code",
      "source": [
        "A = np.array([[3., 1.],\n",
        "              [1., 2.]])\n",
        "b = np.array([9., 8.])\n",
        "\n",
        "x = np.linalg.solve(A, b)   # exact solution\n",
        "print(x)                    # [2. 3.]\n",
        "\n",
        "# Multiple RHS\n",
        "B = np.array([[9., 1.],\n",
        "              [8., 0.]])   # two RHS columns\n",
        "X = np.linalg.solve(A, B)\n",
        "print(X)                    # columns are solutions for each RHS"
      ],
      "metadata": {
        "colab": {
          "base_uri": "https://localhost:8080/"
        },
        "id": "vag1vlLEvCfi",
        "outputId": "9cc78eb8-0220-44c5-f267-c13885e7c82c"
      },
      "execution_count": 2,
      "outputs": [
        {
          "output_type": "stream",
          "name": "stdout",
          "text": [
            "[2. 3.]\n",
            "[[ 2.   0.4]\n",
            " [ 3.  -0.2]]\n"
          ]
        }
      ]
    },
    {
      "cell_type": "code",
      "source": [
        "# General matrix\n",
        "G = np.array([[0., -1.],\n",
        "              [1.,  0.]])\n",
        "vals, vecs = np.linalg.eig(G)\n",
        "print(vals)        # complex eigenvalues\n",
        "print(vecs)        # columns are eigenvectors\n",
        "\n",
        "# Symmetric matrix -> use eigh\n",
        "S = np.array([[2., 1.],\n",
        "              [1., 2.]])\n",
        "w, v = np.linalg.eigh(S)\n",
        "print(w)           # sorted ascending\n",
        "print(v)           # orthonormal eigenvectors (columns)\n",
        "# Check: S v = v diag(w)\n",
        "print(np.allclose(S @ v, v * w))"
      ],
      "metadata": {
        "colab": {
          "base_uri": "https://localhost:8080/"
        },
        "id": "fmYCR9kFvJol",
        "outputId": "1991c944-6b8a-4c87-b1a6-8b235d963508"
      },
      "execution_count": 3,
      "outputs": [
        {
          "output_type": "stream",
          "name": "stdout",
          "text": [
            "[0.+1.j 0.-1.j]\n",
            "[[0.70710678+0.j         0.70710678-0.j        ]\n",
            " [0.        -0.70710678j 0.        +0.70710678j]]\n",
            "[1. 3.]\n",
            "[[-0.70710678  0.70710678]\n",
            " [ 0.70710678  0.70710678]]\n",
            "True\n"
          ]
        }
      ]
    },
    {
      "cell_type": "code",
      "source": [
        "M = np.array([[1., 2.],\n",
        "              [3., 4.]])\n",
        "\n",
        "# Vector norms\n",
        "x = np.array([3., 4.])\n",
        "print(np.linalg.norm(x, ord=2))     # 5.0\n",
        "\n",
        "# Matrix norms\n",
        "print(np.linalg.norm(M, ord=2))     # spectral norm\n",
        "print(np.linalg.cond(M))            # condition number"
      ],
      "metadata": {
        "colab": {
          "base_uri": "https://localhost:8080/"
        },
        "id": "3Y-E06zGvLg8",
        "outputId": "1727d5fd-62d2-4762-dbe0-3f6e19772c9e"
      },
      "execution_count": 4,
      "outputs": [
        {
          "output_type": "stream",
          "name": "stdout",
          "text": [
            "5.0\n",
            "5.464985704219043\n",
            "14.933034373659268\n"
          ]
        }
      ]
    },
    {
      "cell_type": "code",
      "source": [
        "A = np.array([[1., 1.],\n",
        "              [1., 2.],\n",
        "              [1., 3.]])  # (3,2)\n",
        "b = np.array([1., 2., 2.5])\n",
        "\n",
        "x, residuals, rank, s = np.linalg.lstsq(A, b, rcond=None)\n",
        "print(x)            # best-fit slope & intercept (order depends on columns)"
      ],
      "metadata": {
        "colab": {
          "base_uri": "https://localhost:8080/"
        },
        "id": "RTr3gBELvOVu",
        "outputId": "01533175-e409-4911-dfcd-6d4053956eb2"
      },
      "execution_count": 5,
      "outputs": [
        {
          "output_type": "stream",
          "name": "stdout",
          "text": [
            "[0.33333333 0.75      ]\n"
          ]
        }
      ]
    },
    {
      "cell_type": "code",
      "source": [
        "A = np.array([[2., 1.],\n",
        "              [5., 3.]])\n",
        "print(np.linalg.det(A))\n",
        "print(np.linalg.inv(A))     # use solve instead for systems\n",
        "print(np.linalg.pinv(A))    # Moore-Penrose pseudo-inverse (SVD-based)"
      ],
      "metadata": {
        "colab": {
          "base_uri": "https://localhost:8080/"
        },
        "id": "V4PdhzVIvSKr",
        "outputId": "7046a150-5ac7-4b2b-fe0b-08bea1f4e0a3"
      },
      "execution_count": 6,
      "outputs": [
        {
          "output_type": "stream",
          "name": "stdout",
          "text": [
            "1.0000000000000009\n",
            "[[ 3. -1.]\n",
            " [-5.  2.]]\n",
            "[[ 3. -1.]\n",
            " [-5.  2.]]\n"
          ]
        }
      ]
    },
    {
      "cell_type": "code",
      "source": [
        "# 1) Verify Ax = b using solve\n",
        "A = np.array([[4., 1.],\n",
        "              [2., 3.]])\n",
        "b = np.array([9., 13.])\n",
        "x = np.linalg.solve(A, b)\n",
        "print(np.allclose(A @ x, b))\n",
        "\n",
        "# 2) Show why inverse is not recommended\n",
        "x_slow = np.linalg.inv(A) @ b\n",
        "print(np.allclose(x, x_slow))\n",
        "\n",
        "# 3) Use eigh for a symmetric matrix and verify orthonormality of eigenvectors\n",
        "S = np.array([[3., 2.],\n",
        "              [2., 3.]])\n",
        "w, v = np.linalg.eigh(S)\n",
        "print(np.allclose(v.T @ v, np.eye(2)))\n",
        "\n",
        "# 4) Fit a line y = a + b x via least squares\n",
        "X = np.c_[np.ones(5), np.arange(5)]\n",
        "y = np.array([1., 2., 1.5, 3., 2.5])\n",
        "params, *_ = np.linalg.lstsq(X, y, rcond=None)\n",
        "print(params)\n",
        "\n",
        "# 5) Compute condition numbers for two matrices; compare stability\n",
        "M1 = np.array([[1., 0.], [0., 1.]])\n",
        "M2 = np.array([[1., 1.], [1., 1.0001]])\n",
        "print(np.linalg.cond(M1), np.linalg.cond(M2))"
      ],
      "metadata": {
        "colab": {
          "base_uri": "https://localhost:8080/"
        },
        "id": "NIjbByIjvUwm",
        "outputId": "c18ece63-c6b8-4a76-f8f8-51c25336915a"
      },
      "execution_count": 7,
      "outputs": [
        {
          "output_type": "stream",
          "name": "stdout",
          "text": [
            "True\n",
            "True\n",
            "True\n",
            "[1.2 0.4]\n",
            "1.0 40002.00007491187\n"
          ]
        }
      ]
    }
  ]
}